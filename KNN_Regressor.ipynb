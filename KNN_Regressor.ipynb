{
  "cells": [
    {
      "cell_type": "markdown",
      "source": [
        "**Question 1** [myknn_regressor]\n",
        "\n",
        "K-nearest-neighbors (KNN) is a power method to construct nonparametric regression models. The goal of this question is to construct your own KNN regressor. To simplify the question, we are going to use the \"brute-force\" method to find nearest neighbors. That is, we are not going to use specialized data structures such as the K-D tree to speed up the process. Given a set of  N\n",
        "  training data points and a pre-defined hyper-parameter k, the prediction for a testing data point  xa\n",
        "  is computed by locating  k\n",
        "  data points in the training data that is cloest to  xa\n",
        " . If the outcome values of the  k\n",
        "  nearest neighbors are  ya={y1,y2,...,yk}\n",
        " , then the prediction is  f(ya)\n",
        " , where  f\n",
        "  is a real-valued function. We are going to consider two possible choices of  f\n",
        " . The first option is  f(ya)=1/k∑ki=1yi.\n",
        "  This is referred to as the \"equal-weight\" case. The other option is to compute the mean after removing outliers. We define outliers as the data points that are outside of  [Q1−1.5IQR,Q3+1.5IQR]\n",
        " , where  Q1\n",
        "  and  Q3\n",
        "  are the first and third quantile of  ya\n",
        " , and  IQR=Q3−Q1\n",
        " . Since quantiles and IQR only make sense when there are enough neighbors, we allow the \"remove_outliers\" only if  k>=10\n",
        " . If  k<10\n",
        " , use the \"equal_weight\"  f\n",
        "  even if the user specify the other way.\n",
        "\n",
        "Creat a Python class named myknn_regressor that can do predictions given training data and hyper-parameters. It should take the  k\n",
        "  as the hyper-parameter for the number of neighbors. Moreover, the user can select  f\n",
        "  by passing \"equal_weight\" or \"remove_outliers\" to switch between the two possible cases for  f\n",
        " .\n",
        "\n",
        "The sample usage should be like the following:\n",
        "\n",
        "myknn = myknn_regressor(20, \"remove_outliers\")\n",
        "\n",
        "myknn.fit(X_train, Y_train)\n",
        "\n",
        "ypred = myknn.predict(X_test)\n",
        "\n",
        "The first line initiates an myknn_regressor object with  k=20\n",
        "  and selected \"remove_outliers\" for  f\n",
        " ; the second line train the model and the third line computes prediction.\n",
        "\n",
        "You are only allowed to use numpy in your own myknn_regressor class. You will receive a zero score if you adopted an existing KNN regressor such as those in scikit-learn. The input features and output predictions should be numpy arrays. If there is a tie in selecting neighbors, myknn_regressor should break the tie by choosing the data point that is located closer to the beginning of the training dataset.\n",
        "\n",
        "**Dataset**\n",
        "\n",
        "We are going to use a subset of the \"Million Songs Dataset\" in this question. The dataset has been pre-processed and the training and testing dataset has been splitted and stored in a dictionary data structure. You can load the data from from msd_data1.pickle using pickle.load(). There are four elements in the dictionary: x_train, y_train, x_test, y_test. As indicated by their names, these four elements are training and testing data. The outcome variable (i.e.  y\n",
        " ) is the year a song was released, and the features are variables that characterize the sound of a song. The goal is to predict the release year given sound features.\n",
        "\n",
        "Answer the following questions:\n"
      ],
      "metadata": {
        "id": "TFLrpZm-xDlV"
      }
    },
    {
      "cell_type": "markdown",
      "metadata": {
        "id": "YJt_v2pMs02I"
      },
      "source": [
        "**Q1.1** Create your myknn_regressor"
      ]
    },
    {
      "cell_type": "code",
      "execution_count": null,
      "metadata": {
        "id": "0vbJmLdus02N"
      },
      "outputs": [],
      "source": [
        "import numpy as np"
      ]
    },
    {
      "cell_type": "code",
      "execution_count": null,
      "metadata": {
        "id": "neve21sBs02R"
      },
      "outputs": [],
      "source": [
        "def pdt_y( norm_vec, y_train, k_value, function):\n",
        "    # norm_vec : the norm of test data and the whole training data set\n",
        "    # function : 2 types. equal_weight & remove_outliers(only available when k>=10)\n",
        "    nearest_ys = np.zeros(k_value) # Store k nearest values\n",
        "    y = y_train.copy()\n",
        "    y_size = y.shape[0]\n",
        "    norm = norm_vec.copy()\n",
        "\n",
        "    for i in range( k_value ):\n",
        "        m = norm.min() # Get the min value of norm (which means the nearest data point of test data)\n",
        "        index = norm.argmin() # Get the index where min value appears\n",
        "        # Store the y value and remove this data from the data set\n",
        "        nearest_ys[i] = y[index]\n",
        "        norm = np.delete(norm,index)\n",
        "        y = np.delete(y,index)\n",
        "    if function == \"remove_outliers\" and k_value >= 10 :\n",
        "        y_Q1, y_Q3 = np.percentile(nearest_ys, [25, 75])\n",
        "        y_IQR = y_Q3 - y_Q1\n",
        "        l_bd = y_Q1 - 1.5*y_IQR\n",
        "        u_bd = y_Q3 + 1.5*y_IQR\n",
        "        nearest_ys = nearest_ys[(nearest_ys <= u_bd ) & (nearest_ys >= l_bd)] # Only left not outlier y\n",
        "    # After above steps, we got complete nearest ys\n",
        "    mean = nearest_ys.mean() #Take the mean and return the prediction value of y\n",
        "    return mean"
      ]
    },
    {
      "cell_type": "code",
      "execution_count": null,
      "metadata": {
        "id": "5Q9D4F1ys02S"
      },
      "outputs": [],
      "source": [
        "class myknn_regressor:\n",
        "    def __init__(self, K_value, f_outlier):\n",
        "        self.k = K_value\n",
        "        self.f = f_outlier\n",
        "\n",
        "    def fit(self, x_train_set, y_train_set):\n",
        "        self.x_train = x_train_set\n",
        "        self.y_train = y_train_set\n",
        "\n",
        "    def predict(self, x_test):\n",
        "        self.x_test = x_test\n",
        "        train_size = self.x_train.shape[0]\n",
        "        norm_vec = np.zeros(train_size)\n",
        "        test_size = self.x_test.shape[0]\n",
        "        self.y_predict = np.zeros(test_size)\n",
        "        # Iterate all data points in testing data\n",
        "        for i in range(test_size):\n",
        "            for j in range(train_size):\n",
        "                # Build norm_vec array in where the L2 norm of test data point and the training data are stored\n",
        "                norm_vec[j] = np.linalg.norm(self.x_test[i]-self.x_train[j])\n",
        "            # Call pdt_y function to get the predicted y\n",
        "            self.y_predict[i] = pdt_y(norm_vec, self.y_train, self.k, self.f)\n",
        "        return self.y_predict"
      ]
    },
    {
      "cell_type": "markdown",
      "metadata": {
        "id": "WrGYIuH7s02U"
      },
      "source": [
        "**Q1.2** Load data from msd_data1.pickle. You should standardized all feature values so that all features have a zero mean and a unit variance before training a KNN model. Make predictions using  $k$=20\n",
        "  and \"equal_weight\"  $f$. List the RMSE and the first 20 predictions in the testing data."
      ]
    },
    {
      "cell_type": "code",
      "execution_count": null,
      "metadata": {
        "id": "zhocfd-bs02X",
        "outputId": "0f0e10e4-0f23-48d0-a934-4cf0376cc6e5"
      },
      "outputs": [
        {
          "data": {
            "text/plain": [
              "{'X_train': array([[  53.39967,   56.67781,   55.63508, ...,    1.3159 ,    2.37448,\n",
              "            1.85999],\n",
              "        [  42.83464,  -33.90478,   38.97704, ...,    9.72827, -175.51446,\n",
              "          -15.8389 ],\n",
              "        [  49.88591,   23.30563,   54.79012, ...,    1.94152,  101.27241,\n",
              "            8.99355],\n",
              "        ...,\n",
              "        [  41.04397,  -96.30727,   56.8073 , ...,    3.60251,  -97.24809,\n",
              "           -5.80797],\n",
              "        [  42.8676 ,   43.36365,   29.17957, ...,   18.71014,  208.9029 ,\n",
              "          -11.08426],\n",
              "        [  36.57558,   29.8733 ,   -3.08101, ...,   21.0417 ,  106.60317,\n",
              "            3.44396]]),\n",
              " 'Y_train': array([1996., 2001., 2003., ..., 2009., 1982., 1981.]),\n",
              " 'X_test': array([[  38.51784,   55.38723,   10.31652, ...,    6.66624,  -73.75585,\n",
              "            9.47857],\n",
              "        [  44.7309 ,   46.25776,    8.55636, ...,    4.5564 ,   53.49956,\n",
              "            5.39116],\n",
              "        [  43.08912,   45.70197,   17.18467, ...,  -13.64909,   -7.42137,\n",
              "           -4.97266],\n",
              "        ...,\n",
              "        [  39.81814,   62.12221,    6.60567, ...,   28.27807,  -60.00203,\n",
              "          -11.19226],\n",
              "        [  50.25968,   43.10325,   24.72866, ...,    2.71602,  -44.27226,\n",
              "           -2.54583],\n",
              "        [  41.39744,   -8.88692,  -20.15887, ...,    8.63798, -120.34024,\n",
              "            3.65709]]),\n",
              " 'Y_test': array([1998., 1988., 2005., ..., 1990., 2005., 1989.])}"
            ]
          },
          "execution_count": 4,
          "metadata": {},
          "output_type": "execute_result"
        }
      ],
      "source": [
        "import pickle\n",
        "with open('msd_data1.pickle', 'rb') as f:\n",
        "    data = pickle.load(f)\n",
        "data"
      ]
    },
    {
      "cell_type": "code",
      "execution_count": null,
      "metadata": {
        "id": "HVR1XUJMs02a",
        "outputId": "75d755fe-6b8f-4f49-dc2b-90579dc39b40"
      },
      "outputs": [
        {
          "name": "stdout",
          "output_type": "stream",
          "text": [
            "x_train shape: (5000, 90)\n",
            "y_train shape: (5000,)\n",
            "x_test shape: (3000, 90)\n",
            "y_test shape: (3000,)\n"
          ]
        }
      ],
      "source": [
        "# Store the data and check for the data size\n",
        "x_train, y_train, x_test, y_test = data[\"X_train\"], data[\"Y_train\"], data[\"X_test\"], data[\"Y_test\"]\n",
        "print(\"x_train shape:\", x_train.shape)\n",
        "print(\"y_train shape:\", y_train.shape)\n",
        "print(\"x_test shape:\", x_test.shape)\n",
        "print(\"y_test shape:\", y_test.shape)"
      ]
    },
    {
      "cell_type": "code",
      "execution_count": null,
      "metadata": {
        "id": "Qbc8Fbh2s02c"
      },
      "outputs": [],
      "source": [
        "#function for standardizing features and return the mean and standard deviation of each featur(column)\n",
        "def standardize(ft_vec):\n",
        "    row, col = ft_vec.shape\n",
        "    std_ft_vec = ft_vec.copy()\n",
        "    mean_std_vec = np.zeros((col,2))\n",
        "    for c in range(col):\n",
        "        col_vec = ft_vec[:,c]\n",
        "        mean = col_vec.mean()\n",
        "        std = np.std(col_vec)\n",
        "        mean_std_vec[c][0],mean_std_vec[c][1] = mean, std\n",
        "        std_ft_vec[:,c] = (ft_vec[:,c] - mean)/std\n",
        "    return std_ft_vec, mean_std_vec"
      ]
    },
    {
      "cell_type": "code",
      "execution_count": null,
      "metadata": {
        "id": "dawdhUw1s02e"
      },
      "outputs": [],
      "source": [
        "# Standardize features\n",
        "std_x_train,mean_std_vec = standardize(x_train)\n",
        "std_x_test = np.zeros((3000,90))\n",
        "for i in range (90):\n",
        "    std_x_test[:,i] = ( x_test[:,i] - mean_std_vec[i][0])/(mean_std_vec[i][1])"
      ]
    },
    {
      "cell_type": "code",
      "execution_count": null,
      "metadata": {
        "id": "CGjE7EdPs02f"
      },
      "outputs": [],
      "source": [
        "# Use myknn to train KNN model and get prediction\n",
        "# Note that we use feature-standardized data here\n",
        "myknn = myknn_regressor(20, \"equal_weight\")\n",
        "myknn.fit( std_x_train, y_train)\n",
        "y_pred1 = myknn.predict( std_x_test)"
      ]
    },
    {
      "cell_type": "code",
      "execution_count": null,
      "metadata": {
        "id": "57ayxmMLs02f",
        "outputId": "71a05bed-f4a8-4f6f-de0d-db799e68e516"
      },
      "outputs": [
        {
          "name": "stdout",
          "output_type": "stream",
          "text": [
            "RMSE of the test data is :  10.25126451549596\n",
            "The first 20 elements of y_prediction are\n",
            " [1993.35 1993.8  2000.65 1991.5  1992.8  1998.5  1988.1  1991.65 2002.25\n",
            " 2003.   2000.5  1998.65 1995.55 1997.2  1995.05 1997.4  1992.15 2000.45\n",
            " 2003.2  1995.75]\n"
          ]
        }
      ],
      "source": [
        "# Calculate RMSE and print; and print the first 20 elements of y_prediction\n",
        "test_size = y_test.shape[0]\n",
        "RMSE1 =  np.sqrt(np.square( y_pred1 - y_test).mean())\n",
        "print(\"RMSE of the test data is : \", RMSE1)\n",
        "print(\"The first 20 elements of y_prediction are\\n\",y_pred1[:20])"
      ]
    },
    {
      "cell_type": "markdown",
      "metadata": {
        "id": "_hFQPbDJs02g"
      },
      "source": [
        "**Q1.3**\n",
        "Load data from msd_data1.pickle. Standardized all feature values so that all features have a zero mean and unit variance. Make predictions using  $k$=20\n",
        "  and \"remove_outier\"  $f$ . List the RMSE and the first 20 predictions in the testing data."
      ]
    },
    {
      "cell_type": "code",
      "execution_count": null,
      "metadata": {
        "id": "Gjz9tY2qs02h"
      },
      "outputs": [],
      "source": [
        "myknn = myknn_regressor(20, \"remove_outliers\")\n",
        "myknn.fit( std_x_train, y_train)\n",
        "y_pred2 = myknn.predict( std_x_test)"
      ]
    },
    {
      "cell_type": "code",
      "execution_count": null,
      "metadata": {
        "id": "GrjMxs07s02h",
        "outputId": "bc0c4f1f-63f1-4ac6-f0d9-9bd54a718deb"
      },
      "outputs": [
        {
          "name": "stdout",
          "output_type": "stream",
          "text": [
            "RMSE of the test data is :  10.212572466080376\n",
            "The first 20 elements of y_prediction are\n",
            " [1993.35       1993.8        2000.65       1992.73684211 1992.8\n",
            " 2000.         1988.1        1991.65       2002.25       2003.94736842\n",
            " 2000.5        2000.94444444 1995.55       1997.2        1998.61111111\n",
            " 1997.4        1992.15       2003.83333333 2003.2        1995.75      ]\n"
          ]
        }
      ],
      "source": [
        "test_size = y_test.shape[0]\n",
        "RMSE2 =  np.sqrt(np.square( y_pred2 - y_test).mean())\n",
        "print(\"RMSE of the test data is : \", RMSE2)\n",
        "print(\"The first 20 elements of y_prediction are\\n\",y_pred2[:20])"
      ]
    },
    {
      "cell_type": "markdown",
      "metadata": {
        "id": "-EPzQetes02k"
      },
      "source": [
        "<font color = red>Conclusion: At $k$=20, RMSE decreased after outliers were removed, indicating that this method could help increase prediction accuracy."
      ]
    },
    {
      "cell_type": "markdown",
      "source": [
        "**Question 2** [Tuning the Hyper-Parameter]\n",
        "\n",
        "We are going to explore the issue of hyper-parameter tuning in this question. We are going to consider three cases in this question. Use the knn regressor from klearn.neighbors.KNeighborsRegressor for the first two cases, and your own myknn_regressor for the third cases.\n",
        "\n",
        "For each case, use the data from msd_data1.pickle to train and test the KNN models. Compute the RMSE on the testing dataset using  k=1,2,3,4,5,10,15,20,25,30,35,40,45,50,55,60,80,100,120,140,160,180,200\n",
        " . In the first case, all feature values are standardize to have unit variances and zero means. As for the second case, do not apply feature scaling. The third case use standardized feature and adopted myknn_regressor with \"remove_outlier\"  f\n",
        "  to make prediction.\n",
        "\n",
        "For each case, plot a curve that shows the relations between  k\n",
        "  (x-axis) and RMSE (y-axis). If possible, plot the three curves in the same figure so that we can visually inspect their dynamics. Discuss your observations.\n"
      ],
      "metadata": {
        "id": "p-TK_KeevmpE"
      }
    },
    {
      "cell_type": "markdown",
      "metadata": {
        "id": "mFBn_7h_s02l"
      },
      "source": [
        "<font color = blue> Case 1 : Use sklearn.neighbors.KNeighborsRegressor and standardized features for KNN prediction"
      ]
    },
    {
      "cell_type": "code",
      "execution_count": null,
      "metadata": {
        "id": "shW0v902s02m",
        "outputId": "f9c44253-76e9-498a-a88e-7c4c0b6aeded"
      },
      "outputs": [
        {
          "name": "stdout",
          "output_type": "stream",
          "text": [
            "RMSE in the testing data using sklearn.neighbors.KNeighborsRegressor and standardized feature values : \n",
            "RMSE when K =  1  is  13.911074724837043\n",
            "RMSE when K =  2  is  12.068170946750795\n",
            "RMSE when K =  3  is  11.389120864846157\n",
            "RMSE when K =  4  is  11.1123354880961\n",
            "RMSE when K =  5  is  10.894692897614565\n",
            "RMSE when K =  10  is  10.425998912973919\n",
            "RMSE when K =  15  is  10.318171959828572\n",
            "RMSE when K =  20  is  10.25126451549596\n",
            "RMSE when K =  25  is  10.23762722509469\n",
            "RMSE when K =  30  is  10.215977156359507\n",
            "RMSE when K =  35  is  10.205243203546763\n",
            "RMSE when K =  40  is  10.204332770527754\n",
            "RMSE when K =  45  is  10.207243171822855\n",
            "RMSE when K =  50  is  10.206033712139762\n",
            "RMSE when K =  55  is  10.208862384446808\n",
            "RMSE when K =  60  is  10.21700262724764\n",
            "RMSE when K =  80  is  10.231954198429056\n",
            "RMSE when K =  100  is  10.247295947386965\n",
            "RMSE when K =  120  is  10.264908458982783\n",
            "RMSE when K =  140  is  10.287098382403647\n",
            "RMSE when K =  160  is  10.317788599090449\n",
            "RMSE when K =  200  is  10.351940397014143\n"
          ]
        }
      ],
      "source": [
        "from sklearn.neighbors import KNeighborsRegressor\n",
        "print(\"RMSE in the testing data using sklearn.neighbors.KNeighborsRegressor and standardized feature values : \")\n",
        "RMSE_case1 = np.zeros(22)\n",
        "k_seq = [1,2,3,4,5,10,15,20,25,30,35,40,45,50,55,60,80,100,120,140,160,200]\n",
        "test_size = y_test.shape[0]\n",
        "index = 0\n",
        "for i in k_seq:\n",
        "    KNNreg = KNeighborsRegressor(n_neighbors=i)\n",
        "    KNNreg.fit(std_x_train, y_train)\n",
        "    y_pred_KNNreg1 = KNNreg.predict( std_x_test )\n",
        "\n",
        "    RMSE_case1[index] = np.sqrt(np.square( y_pred_KNNreg1 - y_test).mean())\n",
        "    print(\"RMSE when K = \",i ,\" is \", RMSE_case1[index])\n",
        "    index += 1"
      ]
    },
    {
      "cell_type": "markdown",
      "metadata": {
        "id": "W3SQk0OXs02n"
      },
      "source": [
        "<font color = blue> Case 2 : Use sklearn.neighbors.KNeighborsRegressor and unstandardized features for KNN prediction"
      ]
    },
    {
      "cell_type": "code",
      "execution_count": null,
      "metadata": {
        "id": "uxWkH1_Ps02o",
        "outputId": "e4a01f42-f0a7-4cff-8585-7dbde74546a2"
      },
      "outputs": [
        {
          "name": "stdout",
          "output_type": "stream",
          "text": [
            "RMSE in the testing data using sklearn.neighbors.KNeighborsRegressor and unstandardized feature values : \n",
            "RMSE when K =  1  is  14.923638966418345\n",
            "RMSE when K =  2  is  12.777499755429464\n",
            "RMSE when K =  3  is  12.075674967716129\n",
            "RMSE when K =  4  is  11.767805657810635\n",
            "RMSE when K =  5  is  11.466392632384432\n",
            "RMSE when K =  10  is  11.07746090040493\n",
            "RMSE when K =  15  is  10.888979137947995\n",
            "RMSE when K =  20  is  10.797788546734928\n",
            "RMSE when K =  25  is  10.79007301797969\n",
            "RMSE when K =  30  is  10.75026561256701\n",
            "RMSE when K =  35  is  10.717738719772289\n",
            "RMSE when K =  40  is  10.714437504678756\n",
            "RMSE when K =  45  is  10.698494013475852\n",
            "RMSE when K =  50  is  10.69110105960404\n",
            "RMSE when K =  55  is  10.682608734124413\n",
            "RMSE when K =  60  is  10.672535729098724\n",
            "RMSE when K =  80  is  10.662907517124493\n",
            "RMSE when K =  100  is  10.67701950452466\n",
            "RMSE when K =  120  is  10.683139638996407\n",
            "RMSE when K =  140  is  10.687017556442052\n",
            "RMSE when K =  160  is  10.691630026202155\n",
            "RMSE when K =  200  is  10.698853374700175\n"
          ]
        }
      ],
      "source": [
        "print(\"RMSE in the testing data using sklearn.neighbors.KNeighborsRegressor and unstandardized feature values : \")\n",
        "RMSE_case2 = np.zeros(22)\n",
        "index = 0\n",
        "for i in k_seq:\n",
        "    KNNreg = KNeighborsRegressor(n_neighbors=i)\n",
        "    KNNreg.fit(x_train, y_train)\n",
        "    y_pred_KNNreg2 = KNNreg.predict( x_test )\n",
        "    #print(y_pred_KNNreg1)\n",
        "\n",
        "    RMSE_case2[index] = np.sqrt(np.square( y_pred_KNNreg2 - y_test).mean())\n",
        "    print(\"RMSE when K = \",i ,\" is \", RMSE_case2[index])\n",
        "    index += 1"
      ]
    },
    {
      "cell_type": "markdown",
      "metadata": {
        "id": "P3LknFnzs02p"
      },
      "source": [
        "<font color = blue> Case 3 : Use myknn regressor in Question 1 and standardized features for KNN prediction"
      ]
    },
    {
      "cell_type": "code",
      "execution_count": null,
      "metadata": {
        "id": "T6hRyDBAs02q",
        "outputId": "0829ce31-c597-4e6b-af7f-43dc9a2398b6"
      },
      "outputs": [
        {
          "name": "stdout",
          "output_type": "stream",
          "text": [
            "RMSE in the testing data using myknn regressor and standardized feature values : \n",
            "RMSE when K =  1  is  13.911074724837043\n",
            "RMSE when K =  2  is  12.068170946750795\n",
            "RMSE when K =  3  is  11.389120864846157\n",
            "RMSE when K =  4  is  11.1123354880961\n",
            "RMSE when K =  5  is  10.894692897614565\n",
            "RMSE when K =  10  is  10.468549209697088\n",
            "RMSE when K =  15  is  10.293424167991525\n",
            "RMSE when K =  20  is  10.212572466080376\n",
            "RMSE when K =  25  is  10.19147537897133\n",
            "RMSE when K =  30  is  10.132105705172414\n",
            "RMSE when K =  35  is  10.109608004792985\n",
            "RMSE when K =  40  is  10.093231539122922\n",
            "RMSE when K =  45  is  10.080018891479627\n",
            "RMSE when K =  50  is  10.08078333324933\n",
            "RMSE when K =  55  is  10.059767600751963\n",
            "RMSE when K =  60  is  10.073857809066583\n",
            "RMSE when K =  80  is  10.063683549276588\n",
            "RMSE when K =  100  is  10.064917276737452\n",
            "RMSE when K =  120  is  10.067237203620246\n",
            "RMSE when K =  140  is  10.090646192390137\n",
            "RMSE when K =  160  is  10.115316675702928\n",
            "RMSE when K =  200  is  10.146220720227745\n"
          ]
        }
      ],
      "source": [
        "print(\"RMSE in the testing data using myknn regressor and standardized feature values : \")\n",
        "RMSE_case3 = np.zeros(22)\n",
        "index = 0\n",
        "for i in k_seq:\n",
        "    myknn3 = myknn_regressor(i, \"remove_outliers\")\n",
        "    myknn3.fit( std_x_train, y_train)\n",
        "    y_pred_myknn3 = myknn3.predict( std_x_test)\n",
        "    #print(y_pred_KNNreg3)\n",
        "\n",
        "    RMSE_case3[index] = np.sqrt(np.square( y_pred_myknn3 - y_test).mean())\n",
        "    print(\"RMSE when K = \",i ,\" is \", RMSE_case3[index])\n",
        "    index += 1"
      ]
    },
    {
      "cell_type": "markdown",
      "metadata": {
        "id": "_1NMaj__s02r"
      },
      "source": [
        "<font color = blue> Use matplotlib.pyplot to demonstrate three cases."
      ]
    },
    {
      "cell_type": "code",
      "execution_count": null,
      "metadata": {
        "id": "-sKwLgXms02r"
      },
      "outputs": [],
      "source": [
        "import matplotlib.pyplot as plt"
      ]
    },
    {
      "cell_type": "code",
      "execution_count": null,
      "metadata": {
        "id": "GmHXADWCs02s",
        "outputId": "b7599c2d-3d30-40af-ef91-4cb6024d47a1"
      },
      "outputs": [
        {
          "data": {
            "image/png": "[encoded data removed]",
            "text/plain": [
              "<Figure size 720x504 with 1 Axes>"
            ]
          },
          "metadata": {
            "needs_background": "light"
          },
          "output_type": "display_data"
        }
      ],
      "source": [
        "x = k_seq\n",
        "y1, y2, y3 = RMSE_case1, RMSE_case2, RMSE_case3\n",
        "plt.figure(figsize=(10,7))\n",
        "plot = plt.plot(x,y1, label = 'KNeighbor reg(standardized)')\n",
        "plot = plt.plot(x,y2, label = 'KNeighbor reg(unstandardized)')\n",
        "plot = plt.plot(x,y3, label = 'myKNN reg(standardized)')\n",
        "plt.legend(loc = 'upper right',prop = {'size':15})\n",
        "plt.xlabel('K')\n",
        "plt.ylabel('RMSE')\n",
        "plt.show()"
      ]
    },
    {
      "cell_type": "markdown",
      "metadata": {
        "id": "IUTYg9kEs02u"
      },
      "source": [
        "**<font color = red> Conclusion :**    \n",
        "    \n",
        "We can observe two findings from the plot above:     \n",
        "    \n",
        "(1) **Feature standardization is important** :   \n",
        "Regardless of k value, RMSE is higher when using unstandardized features for prediction in comparison to the other two cases. This indicates that the magnitudes of some features can vary a lot, resulting in different influences when calculating the distance in RMSE, which further impacts the prediction accuracy. Therefore, we can conclude that feature standardization is essential when making knn prediction to aviod modeling bias.\n",
        "\n",
        "    \n",
        "(2) **Removing outliers can effectively improve prediction accuracy** :   \n",
        "  When $k$ <10, RMSE in case 1 and case 3 are identical. When $k$=10, myknn regressor performed a bit worse than KNeighbot, but when $k$>10, myknn regressor performed much better than KNeighbor regressor. The differences should come from how we address outliers.We can conclude that when properly removing outliers, we can get better performance in predictions."
      ]
    }
  ],
  "metadata": {
    "kernelspec": {
      "display_name": "Python 3",
      "language": "python",
      "name": "python3"
    },
    "language_info": {
      "codemirror_mode": {
        "name": "ipython",
        "version": 3
      },
      "file_extension": ".py",
      "mimetype": "text/x-python",
      "name": "python",
      "nbconvert_exporter": "python",
      "pygments_lexer": "ipython3",
      "version": "3.7.3"
    },
    "colab": {
      "provenance": []
    }
  },
  "nbformat": 4,
  "nbformat_minor": 0
}
