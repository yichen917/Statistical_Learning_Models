{
  "cells": [
    {
      "cell_type": "markdown",
      "metadata": {
        "id": "b67aegzmx2iq"
      },
      "source": [
        "### **Logistic Regression with L2 Regularization**"
      ]
    },
    {
      "cell_type": "markdown",
      "source": [
        "We discussed Logistic regression and its variation, Bayesian logistic regression, that adopts L2 regularization.\n",
        "\n",
        "We are going to consider an extension of this model to allow different levels of regularization for different regression coefficients. Consider the constant term versus other features. The coefficient of the constant term is usually not regularized in logistic regression. It is because the constant term is related to the odds ratio when all features are zero, and regularizing this term will force the probability of the positive class given a zero feature vector to be 0.5, which may or may not be reasonable.\n",
        "\n",
        "Another consideration is regarding the continuous-valued features and binary-valued features. We typically normalize continuous-valued features to have zero means and unit variances but keep binary-value features untouched. It makes sense to have a single regularization value for the continuous-valued features since all of them have been normalized. Similarly, if we do not have additional information, then all binary-valued features can have the same level of regularization. However, using the same regularization coefficient for the continuous-valued and binary-valued features may not be reasonable. That is, it is often beneficial to have a regularization coefficient for the continuous-valued features and another regularization coefficient for the binary-valued features.\n",
        "\n",
        "The above discussion suggests that a more sophisticated way to regularize a logistic regression is to have three regularization coefficients: 0 for the constant,  $a_1$ for continuous-valued features, and $a_2$ for the binary-valued features. It is possible to further refine the regularization coefficients. However, hyper-parameter tuning associated with more regularization coefficients may be costly.\n",
        "\n",
        "To achieve this goal, we are going to consider a variation of L2-regularized logistic regression that allows different levels of regularization for each coefficient. In the following discussion, we are going to use $X$\n",
        "  to denote the feature matrix in the training data. The i-th row in  $X$\n",
        " ,  $x_i$ , is the feature vector for the i-th training data. The last column of  $X$ is one unless we do not include the constant term.\n",
        "\n",
        "In this model, each regression coefficient may be associated with a different regularization coefficient. Bearing with the risk of ambigulity, we (again) use the scalar  $λ_i$ to denote the regularization coefficient for $w_i$\n",
        " . The vector  $w=[w_1,w_2,...,w_D]^T$ is the regression coefficient vector. Let  $Λ$  denote the diagonal matrix that have $λ_i$ at $Λ_{ii}$\n",
        " . Our new error function becomes:\n",
        "\n",
        "$E(w)= \\frac{1}{2}w^TΛw− \\Sigma_{i=1}^n [t_n \\, ln\\,y_n+(1−t_n \\, ln(1−y_n)]$,\n",
        "\n",
        "where $\\,y_n = \\frac{1}{1+ exp(−w^Tx_n)}$\n",
        "\n",
        "This model allows  $w_i$ to have regularization coefficient $λ_i$. If the constant term is the last element in  $w$, then setting $λ_D$ to $0$ allows us to free the constant term from regularization. We can set  $λ_i$ associated with continuous-valued features to one value, and elements associated with binary-value features to another value. This will achieve our goal of a more refined regularization structure.\n",
        "\n",
        "Following the PRML textbook and the class discussion, we are going to train the model using the Newton-Raphson optimization method. In order to do so, you need to derive the gradient and hessian of  $E(w)$. Given the training dataset, we can optimize $w$ via\n",
        "\n",
        "$w^{new}=w^{old}−H^{−1}∇E$\n",
        "\n",
        "To do so, we need to have an initial vector of $w$ to kick start the iteration. One way to do this is to use the closed-form solution of ridge regression: $w=(X^T X + bI)^{−1}X^Tt$, where $t$ is the vector of training labels. Set $b$ to the average of  $λ_i$. Another way is to change the original L2 regularization term in ridge regression to  $\\frac{1}{2}w^TΛw$ and derive the new closed-form solution that matches our model.\n",
        "\n",
        "Create a Python class named mylogistic_l2 that performs model training and prediction.\n",
        "\n",
        "The sample usage should be like the following:\n",
        "\n",
        "$\\,\\,$*logic1 = mylogistic_l2(reg_vec = lambda_vec, max_iter = 1000, tol = 1e-5, add_intercept = True)*\n",
        "\n",
        "$\\,\\,$*logic1.fit(X_train, Y_train)*\n",
        "\n",
        "$\\,\\,$*ypred = logic1.predict(X_test)*\n",
        "\n",
        "The first line is to create an object with the specified regularization coefficient vector, lambda_vec, and set the maximum number of iteration to 1000. The \"tol\" parameter sets the stopping condition for Newton-Raphson optimization. The iteration will stop if the improvement on the error function is less than  $10^{−5}$. The \"add_intercept\" option says that we need to add a column of ones to the end of X_train before model training. The length of lambda_vec, as a result, should match the number of columns after adding the \"one column\" when this option is turned on.\n",
        "\n",
        "To simplify the discussion, we use 0.5 as the threshold for the positive case when making predictions. That is, the output of the last line should be a numpy array of 0 and 1s.\n",
        "\n",
        "**Implementation Restrictions**\n",
        "\n",
        "You are allowed to use the \"building block\" libraries including numpy and scipy in your own mylogistic_l2 class. You will receive a zero score if you adopted an existing logistic regression classifier in your answer. The input features and labels for the training method should be numpy arrays. The input features and output labels for the predict method should be numpy arrays.\n",
        "\n",
        "**Dataset**\n",
        "\n",
        "We are going to use to \"Adult\" dataset on the UCI machine learning reposition https://archive.ics.uci.edu/ml/datasets/Adult. The goal is to predict the label values of the income column, which can be either '>50K' or '<=50K.' The dataset had split the training and test data, and we are going to respect this particular train-test split in model testing.\n",
        "\n",
        "To use this dataset in our model testing, you need to go through the data cleaning process so that the label value will be 1 for '>50K' and 0 otherwise. You should remove all rows with missing values. That is, if a row contains any missing values, remove that row. All features with discrete-values (for example, native-country and workclass) should be converted to \"1-of-K\" encoding. Include a particular feature value only if this unique value appears more than ten times in the training data."
      ],
      "metadata": {
        "id": "fXydUVjZzoZb"
      }
    },
    {
      "cell_type": "markdown",
      "metadata": {
        "id": "fgEB9JoOx2i2"
      },
      "source": [
        "#### **Q1.1 : Download the Adult dataset. Clean up the dataset and create x_train, y_train, x_test, y_test for training feature, training value, test feature, test label. All of these variables should be numpy arrays. Provide summary statistics for your training and test datasets so that TA can verify the correctness of your procedure.**"
      ]
    },
    {
      "cell_type": "markdown",
      "metadata": {
        "id": "ANyDEyg9x2i4"
      },
      "source": [
        "**<font color = blue>Step 1: Download Data**"
      ]
    },
    {
      "cell_type": "markdown",
      "metadata": {
        "id": "1QOzj5Ypx2i5"
      },
      "source": [
        "After downloading the dataset from the website, I saved it as a CSV file and added a header row for ease of later use."
      ]
    },
    {
      "cell_type": "markdown",
      "metadata": {
        "id": "SwDJmbhwx2i7"
      },
      "source": [
        "**<font color = blue>Step 2: Import Data**"
      ]
    },
    {
      "cell_type": "code",
      "execution_count": null,
      "metadata": {
        "id": "8f1jWn65x2i9"
      },
      "outputs": [],
      "source": [
        "import pandas as pd\n",
        "import numpy as np\n",
        "import matplotlib.pyplot as plt\n",
        "\n",
        "train = pd.read_csv(\"adult_data.csv\")\n",
        "test = pd.read_csv(\"adult_test.csv\")"
      ]
    },
    {
      "cell_type": "code",
      "execution_count": null,
      "metadata": {
        "id": "HDSkpasWx2jG",
        "outputId": "188857ee-ca87-4bc3-87ce-94ca1e2deb1a"
      },
      "outputs": [
        {
          "data": {
            "text/html": [
              "<div>\n",
              "<style scoped>\n",
              "    .dataframe tbody tr th:only-of-type {\n",
              "        vertical-align: middle;\n",
              "    }\n",
              "\n",
              "    .dataframe tbody tr th {\n",
              "        vertical-align: top;\n",
              "    }\n",
              "\n",
              "    .dataframe thead th {\n",
              "        text-align: right;\n",
              "    }\n",
              "</style>\n",
              "<table border=\"1\" class=\"dataframe\">\n",
              "  <thead>\n",
              "    <tr style=\"text-align: right;\">\n",
              "      <th></th>\n",
              "      <th>Age</th>\n",
              "      <th>Workclass</th>\n",
              "      <th>fnlwgt</th>\n",
              "      <th>Education</th>\n",
              "      <th>Education_Num</th>\n",
              "      <th>Martial_Status</th>\n",
              "      <th>Occupation</th>\n",
              "      <th>Relationship</th>\n",
              "      <th>Race</th>\n",
              "      <th>Sex</th>\n",
              "      <th>Capital_Gain</th>\n",
              "      <th>Capital_Loss</th>\n",
              "      <th>Hours_per_week</th>\n",
              "      <th>Country</th>\n",
              "      <th>Target</th>\n",
              "    </tr>\n",
              "  </thead>\n",
              "  <tbody>\n",
              "    <tr>\n",
              "      <th>0</th>\n",
              "      <td>39</td>\n",
              "      <td>State-gov</td>\n",
              "      <td>77516</td>\n",
              "      <td>Bachelors</td>\n",
              "      <td>13</td>\n",
              "      <td>Never-married</td>\n",
              "      <td>Adm-clerical</td>\n",
              "      <td>Not-in-family</td>\n",
              "      <td>White</td>\n",
              "      <td>Male</td>\n",
              "      <td>2174</td>\n",
              "      <td>0</td>\n",
              "      <td>40</td>\n",
              "      <td>United-States</td>\n",
              "      <td>&lt;=50K</td>\n",
              "    </tr>\n",
              "    <tr>\n",
              "      <th>1</th>\n",
              "      <td>50</td>\n",
              "      <td>Self-emp-not-inc</td>\n",
              "      <td>83311</td>\n",
              "      <td>Bachelors</td>\n",
              "      <td>13</td>\n",
              "      <td>Married-civ-spouse</td>\n",
              "      <td>Exec-managerial</td>\n",
              "      <td>Husband</td>\n",
              "      <td>White</td>\n",
              "      <td>Male</td>\n",
              "      <td>0</td>\n",
              "      <td>0</td>\n",
              "      <td>13</td>\n",
              "      <td>United-States</td>\n",
              "      <td>&lt;=50K</td>\n",
              "    </tr>\n",
              "    <tr>\n",
              "      <th>2</th>\n",
              "      <td>38</td>\n",
              "      <td>Private</td>\n",
              "      <td>215646</td>\n",
              "      <td>HS-grad</td>\n",
              "      <td>9</td>\n",
              "      <td>Divorced</td>\n",
              "      <td>Handlers-cleaners</td>\n",
              "      <td>Not-in-family</td>\n",
              "      <td>White</td>\n",
              "      <td>Male</td>\n",
              "      <td>0</td>\n",
              "      <td>0</td>\n",
              "      <td>40</td>\n",
              "      <td>United-States</td>\n",
              "      <td>&lt;=50K</td>\n",
              "    </tr>\n",
              "    <tr>\n",
              "      <th>3</th>\n",
              "      <td>53</td>\n",
              "      <td>Private</td>\n",
              "      <td>234721</td>\n",
              "      <td>11th</td>\n",
              "      <td>7</td>\n",
              "      <td>Married-civ-spouse</td>\n",
              "      <td>Handlers-cleaners</td>\n",
              "      <td>Husband</td>\n",
              "      <td>Black</td>\n",
              "      <td>Male</td>\n",
              "      <td>0</td>\n",
              "      <td>0</td>\n",
              "      <td>40</td>\n",
              "      <td>United-States</td>\n",
              "      <td>&lt;=50K</td>\n",
              "    </tr>\n",
              "    <tr>\n",
              "      <th>4</th>\n",
              "      <td>28</td>\n",
              "      <td>Private</td>\n",
              "      <td>338409</td>\n",
              "      <td>Bachelors</td>\n",
              "      <td>13</td>\n",
              "      <td>Married-civ-spouse</td>\n",
              "      <td>Prof-specialty</td>\n",
              "      <td>Wife</td>\n",
              "      <td>Black</td>\n",
              "      <td>Female</td>\n",
              "      <td>0</td>\n",
              "      <td>0</td>\n",
              "      <td>40</td>\n",
              "      <td>Cuba</td>\n",
              "      <td>&lt;=50K</td>\n",
              "    </tr>\n",
              "  </tbody>\n",
              "</table>\n",
              "</div>"
            ],
            "text/plain": [
              "   Age          Workclass  fnlwgt   Education  Education_Num  \\\n",
              "0   39          State-gov   77516   Bachelors             13   \n",
              "1   50   Self-emp-not-inc   83311   Bachelors             13   \n",
              "2   38            Private  215646     HS-grad              9   \n",
              "3   53            Private  234721        11th              7   \n",
              "4   28            Private  338409   Bachelors             13   \n",
              "\n",
              "        Martial_Status          Occupation    Relationship    Race      Sex  \\\n",
              "0        Never-married        Adm-clerical   Not-in-family   White     Male   \n",
              "1   Married-civ-spouse     Exec-managerial         Husband   White     Male   \n",
              "2             Divorced   Handlers-cleaners   Not-in-family   White     Male   \n",
              "3   Married-civ-spouse   Handlers-cleaners         Husband   Black     Male   \n",
              "4   Married-civ-spouse      Prof-specialty            Wife   Black   Female   \n",
              "\n",
              "   Capital_Gain  Capital_Loss  Hours_per_week         Country  Target  \n",
              "0          2174             0              40   United-States   <=50K  \n",
              "1             0             0              13   United-States   <=50K  \n",
              "2             0             0              40   United-States   <=50K  \n",
              "3             0             0              40   United-States   <=50K  \n",
              "4             0             0              40            Cuba   <=50K  "
            ]
          },
          "execution_count": 2,
          "metadata": {},
          "output_type": "execute_result"
        }
      ],
      "source": [
        "train.head()"
      ]
    },
    {
      "cell_type": "code",
      "execution_count": null,
      "metadata": {
        "id": "XlJPhJi9x2jO",
        "outputId": "1a091444-fc14-42ce-8351-07da232ada59"
      },
      "outputs": [
        {
          "data": {
            "text/html": [
              "<div>\n",
              "<style scoped>\n",
              "    .dataframe tbody tr th:only-of-type {\n",
              "        vertical-align: middle;\n",
              "    }\n",
              "\n",
              "    .dataframe tbody tr th {\n",
              "        vertical-align: top;\n",
              "    }\n",
              "\n",
              "    .dataframe thead th {\n",
              "        text-align: right;\n",
              "    }\n",
              "</style>\n",
              "<table border=\"1\" class=\"dataframe\">\n",
              "  <thead>\n",
              "    <tr style=\"text-align: right;\">\n",
              "      <th></th>\n",
              "      <th>Age</th>\n",
              "      <th>Workclass</th>\n",
              "      <th>fnlwgt</th>\n",
              "      <th>Education</th>\n",
              "      <th>Education_Num</th>\n",
              "      <th>Martial_Status</th>\n",
              "      <th>Occupation</th>\n",
              "      <th>Relationship</th>\n",
              "      <th>Race</th>\n",
              "      <th>Sex</th>\n",
              "      <th>Capital_Gain</th>\n",
              "      <th>Capital_Loss</th>\n",
              "      <th>Hours_per_week</th>\n",
              "      <th>Country</th>\n",
              "      <th>Target</th>\n",
              "    </tr>\n",
              "  </thead>\n",
              "  <tbody>\n",
              "    <tr>\n",
              "      <th>0</th>\n",
              "      <td>25</td>\n",
              "      <td>Private</td>\n",
              "      <td>226802</td>\n",
              "      <td>11th</td>\n",
              "      <td>7</td>\n",
              "      <td>Never-married</td>\n",
              "      <td>Machine-op-inspct</td>\n",
              "      <td>Own-child</td>\n",
              "      <td>Black</td>\n",
              "      <td>Male</td>\n",
              "      <td>0</td>\n",
              "      <td>0</td>\n",
              "      <td>40</td>\n",
              "      <td>United-States</td>\n",
              "      <td>&lt;=50K.</td>\n",
              "    </tr>\n",
              "    <tr>\n",
              "      <th>1</th>\n",
              "      <td>38</td>\n",
              "      <td>Private</td>\n",
              "      <td>89814</td>\n",
              "      <td>HS-grad</td>\n",
              "      <td>9</td>\n",
              "      <td>Married-civ-spouse</td>\n",
              "      <td>Farming-fishing</td>\n",
              "      <td>Husband</td>\n",
              "      <td>White</td>\n",
              "      <td>Male</td>\n",
              "      <td>0</td>\n",
              "      <td>0</td>\n",
              "      <td>50</td>\n",
              "      <td>United-States</td>\n",
              "      <td>&lt;=50K.</td>\n",
              "    </tr>\n",
              "    <tr>\n",
              "      <th>2</th>\n",
              "      <td>28</td>\n",
              "      <td>Local-gov</td>\n",
              "      <td>336951</td>\n",
              "      <td>Assoc-acdm</td>\n",
              "      <td>12</td>\n",
              "      <td>Married-civ-spouse</td>\n",
              "      <td>Protective-serv</td>\n",
              "      <td>Husband</td>\n",
              "      <td>White</td>\n",
              "      <td>Male</td>\n",
              "      <td>0</td>\n",
              "      <td>0</td>\n",
              "      <td>40</td>\n",
              "      <td>United-States</td>\n",
              "      <td>&gt;50K.</td>\n",
              "    </tr>\n",
              "    <tr>\n",
              "      <th>3</th>\n",
              "      <td>44</td>\n",
              "      <td>Private</td>\n",
              "      <td>160323</td>\n",
              "      <td>Some-college</td>\n",
              "      <td>10</td>\n",
              "      <td>Married-civ-spouse</td>\n",
              "      <td>Machine-op-inspct</td>\n",
              "      <td>Husband</td>\n",
              "      <td>Black</td>\n",
              "      <td>Male</td>\n",
              "      <td>7688</td>\n",
              "      <td>0</td>\n",
              "      <td>40</td>\n",
              "      <td>United-States</td>\n",
              "      <td>&gt;50K.</td>\n",
              "    </tr>\n",
              "    <tr>\n",
              "      <th>4</th>\n",
              "      <td>18</td>\n",
              "      <td>?</td>\n",
              "      <td>103497</td>\n",
              "      <td>Some-college</td>\n",
              "      <td>10</td>\n",
              "      <td>Never-married</td>\n",
              "      <td>?</td>\n",
              "      <td>Own-child</td>\n",
              "      <td>White</td>\n",
              "      <td>Female</td>\n",
              "      <td>0</td>\n",
              "      <td>0</td>\n",
              "      <td>30</td>\n",
              "      <td>United-States</td>\n",
              "      <td>&lt;=50K.</td>\n",
              "    </tr>\n",
              "  </tbody>\n",
              "</table>\n",
              "</div>"
            ],
            "text/plain": [
              "   Age   Workclass  fnlwgt      Education  Education_Num       Martial_Status  \\\n",
              "0   25     Private  226802           11th              7        Never-married   \n",
              "1   38     Private   89814        HS-grad              9   Married-civ-spouse   \n",
              "2   28   Local-gov  336951     Assoc-acdm             12   Married-civ-spouse   \n",
              "3   44     Private  160323   Some-college             10   Married-civ-spouse   \n",
              "4   18           ?  103497   Some-college             10        Never-married   \n",
              "\n",
              "           Occupation Relationship    Race      Sex  Capital_Gain  \\\n",
              "0   Machine-op-inspct    Own-child   Black     Male             0   \n",
              "1     Farming-fishing      Husband   White     Male             0   \n",
              "2     Protective-serv      Husband   White     Male             0   \n",
              "3   Machine-op-inspct      Husband   Black     Male          7688   \n",
              "4                   ?    Own-child   White   Female             0   \n",
              "\n",
              "   Capital_Loss  Hours_per_week         Country   Target  \n",
              "0             0              40   United-States   <=50K.  \n",
              "1             0              50   United-States   <=50K.  \n",
              "2             0              40   United-States    >50K.  \n",
              "3             0              40   United-States    >50K.  \n",
              "4             0              30   United-States   <=50K.  "
            ]
          },
          "execution_count": 3,
          "metadata": {},
          "output_type": "execute_result"
        }
      ],
      "source": [
        "test.head()"
      ]
    },
    {
      "cell_type": "markdown",
      "metadata": {
        "id": "EDUpn4JCx2jQ"
      },
      "source": [
        "**<font color = blue> Step 3: Clean the missing values**"
      ]
    },
    {
      "cell_type": "markdown",
      "metadata": {
        "id": "P2fwRwDQx2jS"
      },
      "source": [
        "After opening the csv file, I noticed the presence of '?' in some data, indicating missing values. Therefore, the first step was to check each feature for the existence of missing values. And I decided to remove them if any."
      ]
    },
    {
      "cell_type": "code",
      "execution_count": null,
      "metadata": {
        "id": "EESxMDJex2jU",
        "outputId": "3da25c21-20d9-4fc9-9b15-6cdded00f9ae"
      },
      "outputs": [
        {
          "data": {
            "text/plain": [
              "Age                  0\n",
              "Workclass         1836\n",
              "fnlwgt               0\n",
              "Education            0\n",
              "Education_Num        0\n",
              "Martial_Status       0\n",
              "Occupation        1843\n",
              "Relationship         0\n",
              "Race                 0\n",
              "Sex                  0\n",
              "Capital_Gain         0\n",
              "Capital_Loss         0\n",
              "Hours_per_week       0\n",
              "Country            583\n",
              "Target               0\n",
              "dtype: int64"
            ]
          },
          "execution_count": 4,
          "metadata": {},
          "output_type": "execute_result"
        }
      ],
      "source": [
        "# Observe missing values in training dataset, \" ?\" = missing value\n",
        "data_missing = train.isin([\" ?\"])\n",
        "data_missing.sum()"
      ]
    },
    {
      "cell_type": "code",
      "execution_count": null,
      "metadata": {
        "id": "NCf-EddLx2jV",
        "outputId": "192a4699-76af-41bd-f622-dfc64eab07ec"
      },
      "outputs": [
        {
          "data": {
            "text/plain": [
              "Age                 0\n",
              "Workclass         963\n",
              "fnlwgt              0\n",
              "Education           0\n",
              "Education_Num       0\n",
              "Martial_Status      0\n",
              "Occupation        966\n",
              "Relationship        0\n",
              "Race                0\n",
              "Sex                 0\n",
              "Capital_Gain        0\n",
              "Capital_Loss        0\n",
              "Hours_per_week      0\n",
              "Country           274\n",
              "Target              0\n",
              "dtype: int64"
            ]
          },
          "execution_count": 5,
          "metadata": {},
          "output_type": "execute_result"
        }
      ],
      "source": [
        "# Observe missing values in testing dataset, \" ?\" = missing value\n",
        "data_missing = test.isin([\" ?\"])\n",
        "data_missing.sum()"
      ]
    },
    {
      "cell_type": "markdown",
      "metadata": {
        "id": "sAzLKOq0x2jX"
      },
      "source": [
        "From the observations, I knew that the 'Worldclass,' 'Occupation,' and 'Country' columns in both the training and testing datasets contained missing values. Subsequently, I removed the data points with missing values."
      ]
    },
    {
      "cell_type": "code",
      "execution_count": null,
      "metadata": {
        "id": "x7J9PHzBx2jX",
        "outputId": "57fa3d1f-994f-44f9-fb07-2cdaa4c21958"
      },
      "outputs": [
        {
          "name": "stdout",
          "output_type": "stream",
          "text": [
            "Original train size =  (32561, 15)\n",
            "Remove missing values train size =  (30162, 15)\n",
            "Age               0\n",
            "Workclass         0\n",
            "fnlwgt            0\n",
            "Education         0\n",
            "Education_Num     0\n",
            "Martial_Status    0\n",
            "Occupation        0\n",
            "Relationship      0\n",
            "Race              0\n",
            "Sex               0\n",
            "Capital_Gain      0\n",
            "Capital_Loss      0\n",
            "Hours_per_week    0\n",
            "Country           0\n",
            "Target            0\n",
            "dtype: int64\n"
          ]
        }
      ],
      "source": [
        "print(\"Original train size = \", train.shape)\n",
        "train = train[(train['Workclass']!=\" ?\") & (train['Occupation']!=\" ?\") & (train['Country']!= \" ?\")]\n",
        "print(\"Remove missing values train size = \", train.shape)\n",
        "print(train.isin([\" ?\"]).sum())"
      ]
    },
    {
      "cell_type": "code",
      "execution_count": null,
      "metadata": {
        "id": "J4a_oA4Ex2jY",
        "outputId": "91fa2c2e-0e0f-45aa-e52f-4cd1a4ecf236"
      },
      "outputs": [
        {
          "name": "stdout",
          "output_type": "stream",
          "text": [
            "Original test size =  (16281, 15)\n",
            "Remove missing values test size =  (15060, 15)\n",
            "Age               0\n",
            "Workclass         0\n",
            "fnlwgt            0\n",
            "Education         0\n",
            "Education_Num     0\n",
            "Martial_Status    0\n",
            "Occupation        0\n",
            "Relationship      0\n",
            "Race              0\n",
            "Sex               0\n",
            "Capital_Gain      0\n",
            "Capital_Loss      0\n",
            "Hours_per_week    0\n",
            "Country           0\n",
            "Target            0\n",
            "dtype: int64\n"
          ]
        }
      ],
      "source": [
        "print(\"Original test size = \", test.shape)\n",
        "test = test[(test['Workclass']!=\" ?\") & (test['Occupation']!=\" ?\") & (test['Country']!= \" ?\")]\n",
        "print(\"Remove missing values test size = \", test.shape)\n",
        "print(test.isin([\" ?\"]).sum())"
      ]
    },
    {
      "cell_type": "code",
      "execution_count": null,
      "metadata": {
        "id": "qHnIalAix2jZ"
      },
      "outputs": [],
      "source": [
        "# reset index after deleting rows with missing values\n",
        "train = train.reset_index().drop(['index'], axis=1)\n",
        "test = test.reset_index().drop(['index'], axis=1)"
      ]
    },
    {
      "cell_type": "markdown",
      "metadata": {
        "id": "yk6dEjWHx2ja"
      },
      "source": [
        "Next, after splitting the data into x and y. For the target variable, I transformed them into binary values, where '>50K' was represented as 1, and '<=50K' as 0."
      ]
    },
    {
      "cell_type": "code",
      "execution_count": null,
      "metadata": {
        "id": "qbEUEc1Xx2jb"
      },
      "outputs": [],
      "source": [
        "x_train = train.drop('Target', axis=1)\n",
        "y_train = train['Target']\n",
        "x_test = test.drop('Target', axis=1)\n",
        "y_test = test['Target']"
      ]
    },
    {
      "cell_type": "code",
      "execution_count": null,
      "metadata": {
        "id": "JXU5VR8Jx2jf",
        "outputId": "e026790b-360a-4263-8f2a-4761c91c2e2f"
      },
      "outputs": [
        {
          "data": {
            "text/plain": [
              " <=50K    22654\n",
              " >50K      7508\n",
              "Name: Target, dtype: int64"
            ]
          },
          "execution_count": 10,
          "metadata": {},
          "output_type": "execute_result"
        }
      ],
      "source": [
        "y_train.value_counts()"
      ]
    },
    {
      "cell_type": "code",
      "execution_count": null,
      "metadata": {
        "id": "9pJq3O_wx2jg",
        "outputId": "64266c95-687c-4fb7-fef2-0afac61ba7e5"
      },
      "outputs": [
        {
          "data": {
            "text/plain": [
              " <=50K.    11360\n",
              " >50K.      3700\n",
              "Name: Target, dtype: int64"
            ]
          },
          "execution_count": 11,
          "metadata": {},
          "output_type": "execute_result"
        }
      ],
      "source": [
        "y_test.value_counts()"
      ]
    },
    {
      "cell_type": "code",
      "execution_count": null,
      "metadata": {
        "id": "9dQLU4Kvx2jl"
      },
      "outputs": [],
      "source": [
        "y_train = y_train.replace([\" <=50K\", \" >50K\"], [0, 1])\n",
        "y_test = y_test.replace([\" <=50K.\", \" >50K.\"], [0, 1])"
      ]
    },
    {
      "cell_type": "code",
      "execution_count": null,
      "metadata": {
        "id": "Qxtd5OTIx2jm",
        "outputId": "e7e18bdd-fb9b-4a5c-d94c-74263a1e5262"
      },
      "outputs": [
        {
          "name": "stdout",
          "output_type": "stream",
          "text": [
            "0    22654\n",
            "1     7508\n",
            "Name: Target, dtype: int64\n",
            "0    11360\n",
            "1     3700\n",
            "Name: Target, dtype: int64\n"
          ]
        }
      ],
      "source": [
        "print(y_train.value_counts())\n",
        "print(y_test.value_counts())"
      ]
    },
    {
      "cell_type": "markdown",
      "metadata": {
        "id": "uZWY6BxPx2jo"
      },
      "source": [
        "**<font color = blue> Step 4: Go through the categorical features to determine the feature values**"
      ]
    },
    {
      "cell_type": "code",
      "execution_count": null,
      "metadata": {
        "id": "7W8Q1dTQx2jq",
        "outputId": "87915447-f097-4835-abf1-af2cd74a6313"
      },
      "outputs": [
        {
          "data": {
            "text/html": [
              "<div>\n",
              "<style scoped>\n",
              "    .dataframe tbody tr th:only-of-type {\n",
              "        vertical-align: middle;\n",
              "    }\n",
              "\n",
              "    .dataframe tbody tr th {\n",
              "        vertical-align: top;\n",
              "    }\n",
              "\n",
              "    .dataframe thead th {\n",
              "        text-align: right;\n",
              "    }\n",
              "</style>\n",
              "<table border=\"1\" class=\"dataframe\">\n",
              "  <thead>\n",
              "    <tr style=\"text-align: right;\">\n",
              "      <th></th>\n",
              "      <th>Age</th>\n",
              "      <th>Workclass</th>\n",
              "      <th>fnlwgt</th>\n",
              "      <th>Education</th>\n",
              "      <th>Education_Num</th>\n",
              "      <th>Martial_Status</th>\n",
              "      <th>Occupation</th>\n",
              "      <th>Relationship</th>\n",
              "      <th>Race</th>\n",
              "      <th>Sex</th>\n",
              "      <th>Capital_Gain</th>\n",
              "      <th>Capital_Loss</th>\n",
              "      <th>Hours_per_week</th>\n",
              "      <th>Country</th>\n",
              "    </tr>\n",
              "  </thead>\n",
              "  <tbody>\n",
              "    <tr>\n",
              "      <th>0</th>\n",
              "      <td>39</td>\n",
              "      <td>State-gov</td>\n",
              "      <td>77516</td>\n",
              "      <td>Bachelors</td>\n",
              "      <td>13</td>\n",
              "      <td>Never-married</td>\n",
              "      <td>Adm-clerical</td>\n",
              "      <td>Not-in-family</td>\n",
              "      <td>White</td>\n",
              "      <td>Male</td>\n",
              "      <td>2174</td>\n",
              "      <td>0</td>\n",
              "      <td>40</td>\n",
              "      <td>United-States</td>\n",
              "    </tr>\n",
              "    <tr>\n",
              "      <th>1</th>\n",
              "      <td>50</td>\n",
              "      <td>Self-emp-not-inc</td>\n",
              "      <td>83311</td>\n",
              "      <td>Bachelors</td>\n",
              "      <td>13</td>\n",
              "      <td>Married-civ-spouse</td>\n",
              "      <td>Exec-managerial</td>\n",
              "      <td>Husband</td>\n",
              "      <td>White</td>\n",
              "      <td>Male</td>\n",
              "      <td>0</td>\n",
              "      <td>0</td>\n",
              "      <td>13</td>\n",
              "      <td>United-States</td>\n",
              "    </tr>\n",
              "  </tbody>\n",
              "</table>\n",
              "</div>"
            ],
            "text/plain": [
              "   Age          Workclass  fnlwgt   Education  Education_Num  \\\n",
              "0   39          State-gov   77516   Bachelors             13   \n",
              "1   50   Self-emp-not-inc   83311   Bachelors             13   \n",
              "\n",
              "        Martial_Status        Occupation    Relationship    Race    Sex  \\\n",
              "0        Never-married      Adm-clerical   Not-in-family   White   Male   \n",
              "1   Married-civ-spouse   Exec-managerial         Husband   White   Male   \n",
              "\n",
              "   Capital_Gain  Capital_Loss  Hours_per_week         Country  \n",
              "0          2174             0              40   United-States  \n",
              "1             0             0              13   United-States  "
            ]
          },
          "execution_count": 14,
          "metadata": {},
          "output_type": "execute_result"
        }
      ],
      "source": [
        "x_train.head(2)"
      ]
    },
    {
      "cell_type": "markdown",
      "metadata": {
        "id": "yygXkVh1x2js"
      },
      "source": [
        "For categorical features 'Workclass,' 'Education,' 'Martial_Status,' 'Occupation,' 'Relationship,' 'Race,' 'Sex,' and 'Country,' I performed 1-to-K encoding by observing and selecting categories with counts greater than 10."
      ]
    },
    {
      "cell_type": "markdown",
      "metadata": {
        "id": "d7GEfBBmx2jt"
      },
      "source": [
        "- Workclass"
      ]
    },
    {
      "cell_type": "code",
      "execution_count": null,
      "metadata": {
        "id": "-bVZkL0Sx2ju",
        "outputId": "665654c9-cdd8-4fcc-8e67-89eb33147bd6"
      },
      "outputs": [
        {
          "data": {
            "text/plain": [
              " Private             22286\n",
              " Self-emp-not-inc     2499\n",
              " Local-gov            2067\n",
              " State-gov            1279\n",
              " Self-emp-inc         1074\n",
              " Federal-gov           943\n",
              " Without-pay            14\n",
              "Name: Workclass, dtype: int64"
            ]
          },
          "execution_count": 15,
          "metadata": {},
          "output_type": "execute_result"
        }
      ],
      "source": [
        "# Observe the categories of Workclass\n",
        "x_train['Workclass'].value_counts()"
      ]
    },
    {
      "cell_type": "markdown",
      "metadata": {
        "id": "AzAqF4VEx2jv"
      },
      "source": [
        "Since there were no categories with counts less than 10, there was no need for further processing before one-hot-encoding."
      ]
    },
    {
      "cell_type": "markdown",
      "metadata": {
        "id": "23WCyqRTx2jv"
      },
      "source": [
        "- Education"
      ]
    },
    {
      "cell_type": "code",
      "execution_count": null,
      "metadata": {
        "id": "BXhK8eIyx2jw",
        "outputId": "409ef562-d896-4d5a-d5ce-adadb76eada0"
      },
      "outputs": [
        {
          "data": {
            "text/plain": [
              " HS-grad         9840\n",
              " Some-college    6678\n",
              " Bachelors       5044\n",
              " Masters         1627\n",
              " Assoc-voc       1307\n",
              " 11th            1048\n",
              " Assoc-acdm      1008\n",
              " 10th             820\n",
              " 7th-8th          557\n",
              " Prof-school      542\n",
              " 9th              455\n",
              " 12th             377\n",
              " Doctorate        375\n",
              " 5th-6th          288\n",
              " 1st-4th          151\n",
              " Preschool         45\n",
              "Name: Education, dtype: int64"
            ]
          },
          "execution_count": 16,
          "metadata": {},
          "output_type": "execute_result"
        }
      ],
      "source": [
        "x_train['Education'].value_counts()"
      ]
    },
    {
      "cell_type": "markdown",
      "metadata": {
        "id": "P7wewjEzx2jx"
      },
      "source": [
        "Since there were no categories with counts less than 10, there was no need for further processing before one-hot-encoding."
      ]
    },
    {
      "cell_type": "markdown",
      "metadata": {
        "id": "37wqJI89x2jx"
      },
      "source": [
        "- Martial_Status"
      ]
    },
    {
      "cell_type": "code",
      "execution_count": null,
      "metadata": {
        "id": "pzJfLnX7x2jy",
        "outputId": "27ff2f0b-ff4b-46f8-d7d0-227d0584dc76"
      },
      "outputs": [
        {
          "data": {
            "text/plain": [
              " Married-civ-spouse       14065\n",
              " Never-married             9726\n",
              " Divorced                  4214\n",
              " Separated                  939\n",
              " Widowed                    827\n",
              " Married-spouse-absent      370\n",
              " Married-AF-spouse           21\n",
              "Name: Martial_Status, dtype: int64"
            ]
          },
          "execution_count": 17,
          "metadata": {},
          "output_type": "execute_result"
        }
      ],
      "source": [
        "x_train['Martial_Status'].value_counts()"
      ]
    },
    {
      "cell_type": "markdown",
      "metadata": {
        "id": "cOFjyxeDx2jz"
      },
      "source": [
        "Since there were no categories with counts less than 10, there was no need for further processing before one-hot-encoding."
      ]
    },
    {
      "cell_type": "markdown",
      "metadata": {
        "id": "TKohUBgsx2jz"
      },
      "source": [
        "- Occupation"
      ]
    },
    {
      "cell_type": "code",
      "execution_count": null,
      "metadata": {
        "id": "OJF4KUfkx2j1",
        "outputId": "a7f2fe88-09bf-462c-d33b-5e073537d385"
      },
      "outputs": [
        {
          "data": {
            "text/plain": [
              " Prof-specialty       4038\n",
              " Craft-repair         4030\n",
              " Exec-managerial      3992\n",
              " Adm-clerical         3721\n",
              " Sales                3584\n",
              " Other-service        3212\n",
              " Machine-op-inspct    1966\n",
              " Transport-moving     1572\n",
              " Handlers-cleaners    1350\n",
              " Farming-fishing       989\n",
              " Tech-support          912\n",
              " Protective-serv       644\n",
              " Priv-house-serv       143\n",
              " Armed-Forces            9\n",
              "Name: Occupation, dtype: int64"
            ]
          },
          "execution_count": 18,
          "metadata": {},
          "output_type": "execute_result"
        }
      ],
      "source": [
        "x_train['Occupation'].value_counts()"
      ]
    },
    {
      "cell_type": "markdown",
      "metadata": {
        "id": "cA5S8korx2j2"
      },
      "source": [
        "To Remove 'Armed-Forces' since its counts was less than 10."
      ]
    },
    {
      "cell_type": "code",
      "execution_count": null,
      "metadata": {
        "id": "vWNdRuRIx2kB"
      },
      "outputs": [],
      "source": [
        "delete_features = ['Occupation_ Armed-Forces']"
      ]
    },
    {
      "cell_type": "markdown",
      "metadata": {
        "id": "mtkPtR8gx2kC"
      },
      "source": [
        "- Relationship"
      ]
    },
    {
      "cell_type": "code",
      "execution_count": null,
      "metadata": {
        "id": "3wGxB7a_x2kC",
        "outputId": "847481a2-4137-4666-9e1e-f138e4da9427"
      },
      "outputs": [
        {
          "data": {
            "text/plain": [
              " Husband           12463\n",
              " Not-in-family      7726\n",
              " Own-child          4466\n",
              " Unmarried          3212\n",
              " Wife               1406\n",
              " Other-relative      889\n",
              "Name: Relationship, dtype: int64"
            ]
          },
          "execution_count": 20,
          "metadata": {},
          "output_type": "execute_result"
        }
      ],
      "source": [
        "x_train['Relationship'].value_counts()"
      ]
    },
    {
      "cell_type": "markdown",
      "metadata": {
        "id": "CefDAWjLx2kG"
      },
      "source": [
        "Since there were no categories with counts less than 10, there was no need for further processing before one-hot-encoding."
      ]
    },
    {
      "cell_type": "markdown",
      "metadata": {
        "id": "ImED-deKx2kH"
      },
      "source": [
        "- Race"
      ]
    },
    {
      "cell_type": "code",
      "execution_count": null,
      "metadata": {
        "id": "a5N2yCqsx2kI",
        "outputId": "2e3018a8-63b8-4f7a-95b8-456f5bed8fb0"
      },
      "outputs": [
        {
          "data": {
            "text/plain": [
              " White                 25933\n",
              " Black                  2817\n",
              " Asian-Pac-Islander      895\n",
              " Amer-Indian-Eskimo      286\n",
              " Other                   231\n",
              "Name: Race, dtype: int64"
            ]
          },
          "execution_count": 21,
          "metadata": {},
          "output_type": "execute_result"
        }
      ],
      "source": [
        "x_train['Race'].value_counts()"
      ]
    },
    {
      "cell_type": "markdown",
      "metadata": {
        "id": "DjrD2acSx2kJ"
      },
      "source": [
        "Since there were no categories with counts less than 10, there was no need for further processing before one-hot-encoding."
      ]
    },
    {
      "cell_type": "markdown",
      "metadata": {
        "id": "tWayNvEQx2kK"
      },
      "source": [
        "- Sex"
      ]
    },
    {
      "cell_type": "code",
      "execution_count": null,
      "metadata": {
        "id": "Uo6QaqGAx2kK",
        "outputId": "616220cf-3f17-4ca6-fb5d-0b4c84c22408"
      },
      "outputs": [
        {
          "data": {
            "text/plain": [
              " Male      20380\n",
              " Female     9782\n",
              "Name: Sex, dtype: int64"
            ]
          },
          "execution_count": 22,
          "metadata": {},
          "output_type": "execute_result"
        }
      ],
      "source": [
        "x_train['Sex'].value_counts()"
      ]
    },
    {
      "cell_type": "markdown",
      "metadata": {
        "id": "Fw27llElx2kL"
      },
      "source": [
        "Since there were no categories with counts less than 10, there was no need for further processing before one-hot-encoding."
      ]
    },
    {
      "cell_type": "markdown",
      "metadata": {
        "id": "wJyVq1Gdx2kM"
      },
      "source": [
        "- Country"
      ]
    },
    {
      "cell_type": "code",
      "execution_count": null,
      "metadata": {
        "id": "fDBt_00Bx2kM",
        "outputId": "c8eaec2a-a4c7-4256-b85d-11cd3b19fb86"
      },
      "outputs": [
        {
          "data": {
            "text/plain": [
              " United-States                 27504\n",
              " Mexico                          610\n",
              " Philippines                     188\n",
              " Germany                         128\n",
              " Puerto-Rico                     109\n",
              " Canada                          107\n",
              " El-Salvador                     100\n",
              " India                           100\n",
              " Cuba                             92\n",
              " England                          86\n",
              " Jamaica                          80\n",
              " South                            71\n",
              " China                            68\n",
              " Italy                            68\n",
              " Dominican-Republic               67\n",
              " Vietnam                          64\n",
              " Guatemala                        63\n",
              " Japan                            59\n",
              " Poland                           56\n",
              " Columbia                         56\n",
              " Taiwan                           42\n",
              " Haiti                            42\n",
              " Iran                             42\n",
              " Portugal                         34\n",
              " Nicaragua                        33\n",
              " Peru                             30\n",
              " Greece                           29\n",
              " Ecuador                          27\n",
              " France                           27\n",
              " Ireland                          24\n",
              " Hong                             19\n",
              " Trinadad&Tobago                  18\n",
              " Cambodia                         18\n",
              " Laos                             17\n",
              " Thailand                         17\n",
              " Yugoslavia                       16\n",
              " Outlying-US(Guam-USVI-etc)       14\n",
              " Hungary                          13\n",
              " Honduras                         12\n",
              " Scotland                         11\n",
              " Holand-Netherlands                1\n",
              "Name: Country, dtype: int64"
            ]
          },
          "execution_count": 23,
          "metadata": {},
          "output_type": "execute_result"
        }
      ],
      "source": [
        "x_train['Country'].value_counts()"
      ]
    },
    {
      "cell_type": "markdown",
      "metadata": {
        "id": "3qLHP6UTx2kN"
      },
      "source": [
        "To remove 'Holand-Netherlands' since its counts was less than 10."
      ]
    },
    {
      "cell_type": "code",
      "execution_count": null,
      "metadata": {
        "id": "Sm72CHa6x2kN"
      },
      "outputs": [],
      "source": [
        "delete_features.append('Country_ Holand-Netherlands')"
      ]
    },
    {
      "cell_type": "markdown",
      "metadata": {
        "id": "SMIzEPuzx2kO"
      },
      "source": [
        "**Do one-to-K encoding and then delete the columns in \"delete_features\" (i.e. those categories with counts <10)**"
      ]
    },
    {
      "cell_type": "code",
      "execution_count": null,
      "metadata": {
        "id": "kVvNKYeIx2kP",
        "outputId": "2208cec4-a40a-4955-9de8-4ff50b37b394"
      },
      "outputs": [
        {
          "data": {
            "text/html": [
              "<div>\n",
              "<style scoped>\n",
              "    .dataframe tbody tr th:only-of-type {\n",
              "        vertical-align: middle;\n",
              "    }\n",
              "\n",
              "    .dataframe tbody tr th {\n",
              "        vertical-align: top;\n",
              "    }\n",
              "\n",
              "    .dataframe thead th {\n",
              "        text-align: right;\n",
              "    }\n",
              "</style>\n",
              "<table border=\"1\" class=\"dataframe\">\n",
              "  <thead>\n",
              "    <tr style=\"text-align: right;\">\n",
              "      <th></th>\n",
              "      <th>Age</th>\n",
              "      <th>fnlwgt</th>\n",
              "      <th>Education_Num</th>\n",
              "      <th>Capital_Gain</th>\n",
              "      <th>Capital_Loss</th>\n",
              "      <th>Hours_per_week</th>\n",
              "      <th>Workclass_ Federal-gov</th>\n",
              "      <th>Workclass_ Local-gov</th>\n",
              "      <th>Workclass_ Private</th>\n",
              "      <th>Workclass_ Self-emp-inc</th>\n",
              "      <th>...</th>\n",
              "      <th>Country_ Portugal</th>\n",
              "      <th>Country_ Puerto-Rico</th>\n",
              "      <th>Country_ Scotland</th>\n",
              "      <th>Country_ South</th>\n",
              "      <th>Country_ Taiwan</th>\n",
              "      <th>Country_ Thailand</th>\n",
              "      <th>Country_ Trinadad&amp;Tobago</th>\n",
              "      <th>Country_ United-States</th>\n",
              "      <th>Country_ Vietnam</th>\n",
              "      <th>Country_ Yugoslavia</th>\n",
              "    </tr>\n",
              "  </thead>\n",
              "  <tbody>\n",
              "    <tr>\n",
              "      <th>0</th>\n",
              "      <td>39</td>\n",
              "      <td>77516</td>\n",
              "      <td>13</td>\n",
              "      <td>2174</td>\n",
              "      <td>0</td>\n",
              "      <td>40</td>\n",
              "      <td>0</td>\n",
              "      <td>0</td>\n",
              "      <td>0</td>\n",
              "      <td>0</td>\n",
              "      <td>...</td>\n",
              "      <td>0</td>\n",
              "      <td>0</td>\n",
              "      <td>0</td>\n",
              "      <td>0</td>\n",
              "      <td>0</td>\n",
              "      <td>0</td>\n",
              "      <td>0</td>\n",
              "      <td>1</td>\n",
              "      <td>0</td>\n",
              "      <td>0</td>\n",
              "    </tr>\n",
              "    <tr>\n",
              "      <th>1</th>\n",
              "      <td>50</td>\n",
              "      <td>83311</td>\n",
              "      <td>13</td>\n",
              "      <td>0</td>\n",
              "      <td>0</td>\n",
              "      <td>13</td>\n",
              "      <td>0</td>\n",
              "      <td>0</td>\n",
              "      <td>0</td>\n",
              "      <td>0</td>\n",
              "      <td>...</td>\n",
              "      <td>0</td>\n",
              "      <td>0</td>\n",
              "      <td>0</td>\n",
              "      <td>0</td>\n",
              "      <td>0</td>\n",
              "      <td>0</td>\n",
              "      <td>0</td>\n",
              "      <td>1</td>\n",
              "      <td>0</td>\n",
              "      <td>0</td>\n",
              "    </tr>\n",
              "    <tr>\n",
              "      <th>2</th>\n",
              "      <td>38</td>\n",
              "      <td>215646</td>\n",
              "      <td>9</td>\n",
              "      <td>0</td>\n",
              "      <td>0</td>\n",
              "      <td>40</td>\n",
              "      <td>0</td>\n",
              "      <td>0</td>\n",
              "      <td>1</td>\n",
              "      <td>0</td>\n",
              "      <td>...</td>\n",
              "      <td>0</td>\n",
              "      <td>0</td>\n",
              "      <td>0</td>\n",
              "      <td>0</td>\n",
              "      <td>0</td>\n",
              "      <td>0</td>\n",
              "      <td>0</td>\n",
              "      <td>1</td>\n",
              "      <td>0</td>\n",
              "      <td>0</td>\n",
              "    </tr>\n",
              "    <tr>\n",
              "      <th>3</th>\n",
              "      <td>53</td>\n",
              "      <td>234721</td>\n",
              "      <td>7</td>\n",
              "      <td>0</td>\n",
              "      <td>0</td>\n",
              "      <td>40</td>\n",
              "      <td>0</td>\n",
              "      <td>0</td>\n",
              "      <td>1</td>\n",
              "      <td>0</td>\n",
              "      <td>...</td>\n",
              "      <td>0</td>\n",
              "      <td>0</td>\n",
              "      <td>0</td>\n",
              "      <td>0</td>\n",
              "      <td>0</td>\n",
              "      <td>0</td>\n",
              "      <td>0</td>\n",
              "      <td>1</td>\n",
              "      <td>0</td>\n",
              "      <td>0</td>\n",
              "    </tr>\n",
              "    <tr>\n",
              "      <th>4</th>\n",
              "      <td>28</td>\n",
              "      <td>338409</td>\n",
              "      <td>13</td>\n",
              "      <td>0</td>\n",
              "      <td>0</td>\n",
              "      <td>40</td>\n",
              "      <td>0</td>\n",
              "      <td>0</td>\n",
              "      <td>1</td>\n",
              "      <td>0</td>\n",
              "      <td>...</td>\n",
              "      <td>0</td>\n",
              "      <td>0</td>\n",
              "      <td>0</td>\n",
              "      <td>0</td>\n",
              "      <td>0</td>\n",
              "      <td>0</td>\n",
              "      <td>0</td>\n",
              "      <td>0</td>\n",
              "      <td>0</td>\n",
              "      <td>0</td>\n",
              "    </tr>\n",
              "  </tbody>\n",
              "</table>\n",
              "<p>5 rows × 102 columns</p>\n",
              "</div>"
            ],
            "text/plain": [
              "   Age  fnlwgt  Education_Num  Capital_Gain  Capital_Loss  Hours_per_week  \\\n",
              "0   39   77516             13          2174             0              40   \n",
              "1   50   83311             13             0             0              13   \n",
              "2   38  215646              9             0             0              40   \n",
              "3   53  234721              7             0             0              40   \n",
              "4   28  338409             13             0             0              40   \n",
              "\n",
              "   Workclass_ Federal-gov  Workclass_ Local-gov  Workclass_ Private  \\\n",
              "0                       0                     0                   0   \n",
              "1                       0                     0                   0   \n",
              "2                       0                     0                   1   \n",
              "3                       0                     0                   1   \n",
              "4                       0                     0                   1   \n",
              "\n",
              "   Workclass_ Self-emp-inc  ...  Country_ Portugal  Country_ Puerto-Rico  \\\n",
              "0                        0  ...                  0                     0   \n",
              "1                        0  ...                  0                     0   \n",
              "2                        0  ...                  0                     0   \n",
              "3                        0  ...                  0                     0   \n",
              "4                        0  ...                  0                     0   \n",
              "\n",
              "   Country_ Scotland  Country_ South  Country_ Taiwan  Country_ Thailand  \\\n",
              "0                  0               0                0                  0   \n",
              "1                  0               0                0                  0   \n",
              "2                  0               0                0                  0   \n",
              "3                  0               0                0                  0   \n",
              "4                  0               0                0                  0   \n",
              "\n",
              "   Country_ Trinadad&Tobago  Country_ United-States  Country_ Vietnam  \\\n",
              "0                         0                       1                 0   \n",
              "1                         0                       1                 0   \n",
              "2                         0                       1                 0   \n",
              "3                         0                       1                 0   \n",
              "4                         0                       0                 0   \n",
              "\n",
              "   Country_ Yugoslavia  \n",
              "0                    0  \n",
              "1                    0  \n",
              "2                    0  \n",
              "3                    0  \n",
              "4                    0  \n",
              "\n",
              "[5 rows x 102 columns]"
            ]
          },
          "execution_count": 25,
          "metadata": {},
          "output_type": "execute_result"
        }
      ],
      "source": [
        "x_train = pd.get_dummies(x_train).drop(delete_features, axis=1)\n",
        "x_train.head()"
      ]
    },
    {
      "cell_type": "markdown",
      "metadata": {
        "id": "B3bXbVNnx2kP"
      },
      "source": [
        "**Do one-to-K encoding on testing data, retaining only the columns that were the same with those in the training data.**"
      ]
    },
    {
      "cell_type": "code",
      "execution_count": null,
      "metadata": {
        "id": "ryCKEzItx2kQ",
        "outputId": "042fc73f-44b1-4a8e-f818-e2d11e20bf2f"
      },
      "outputs": [
        {
          "data": {
            "text/html": [
              "<div>\n",
              "<style scoped>\n",
              "    .dataframe tbody tr th:only-of-type {\n",
              "        vertical-align: middle;\n",
              "    }\n",
              "\n",
              "    .dataframe tbody tr th {\n",
              "        vertical-align: top;\n",
              "    }\n",
              "\n",
              "    .dataframe thead th {\n",
              "        text-align: right;\n",
              "    }\n",
              "</style>\n",
              "<table border=\"1\" class=\"dataframe\">\n",
              "  <thead>\n",
              "    <tr style=\"text-align: right;\">\n",
              "      <th></th>\n",
              "      <th>Age</th>\n",
              "      <th>fnlwgt</th>\n",
              "      <th>Education_Num</th>\n",
              "      <th>Capital_Gain</th>\n",
              "      <th>Capital_Loss</th>\n",
              "      <th>Hours_per_week</th>\n",
              "      <th>Workclass_ Federal-gov</th>\n",
              "      <th>Workclass_ Local-gov</th>\n",
              "      <th>Workclass_ Private</th>\n",
              "      <th>Workclass_ Self-emp-inc</th>\n",
              "      <th>...</th>\n",
              "      <th>Country_ Portugal</th>\n",
              "      <th>Country_ Puerto-Rico</th>\n",
              "      <th>Country_ Scotland</th>\n",
              "      <th>Country_ South</th>\n",
              "      <th>Country_ Taiwan</th>\n",
              "      <th>Country_ Thailand</th>\n",
              "      <th>Country_ Trinadad&amp;Tobago</th>\n",
              "      <th>Country_ United-States</th>\n",
              "      <th>Country_ Vietnam</th>\n",
              "      <th>Country_ Yugoslavia</th>\n",
              "    </tr>\n",
              "  </thead>\n",
              "  <tbody>\n",
              "    <tr>\n",
              "      <th>0</th>\n",
              "      <td>25</td>\n",
              "      <td>226802</td>\n",
              "      <td>7</td>\n",
              "      <td>0</td>\n",
              "      <td>0</td>\n",
              "      <td>40</td>\n",
              "      <td>0</td>\n",
              "      <td>0</td>\n",
              "      <td>1</td>\n",
              "      <td>0</td>\n",
              "      <td>...</td>\n",
              "      <td>0</td>\n",
              "      <td>0</td>\n",
              "      <td>0</td>\n",
              "      <td>0</td>\n",
              "      <td>0</td>\n",
              "      <td>0</td>\n",
              "      <td>0</td>\n",
              "      <td>1</td>\n",
              "      <td>0</td>\n",
              "      <td>0</td>\n",
              "    </tr>\n",
              "    <tr>\n",
              "      <th>1</th>\n",
              "      <td>38</td>\n",
              "      <td>89814</td>\n",
              "      <td>9</td>\n",
              "      <td>0</td>\n",
              "      <td>0</td>\n",
              "      <td>50</td>\n",
              "      <td>0</td>\n",
              "      <td>0</td>\n",
              "      <td>1</td>\n",
              "      <td>0</td>\n",
              "      <td>...</td>\n",
              "      <td>0</td>\n",
              "      <td>0</td>\n",
              "      <td>0</td>\n",
              "      <td>0</td>\n",
              "      <td>0</td>\n",
              "      <td>0</td>\n",
              "      <td>0</td>\n",
              "      <td>1</td>\n",
              "      <td>0</td>\n",
              "      <td>0</td>\n",
              "    </tr>\n",
              "    <tr>\n",
              "      <th>2</th>\n",
              "      <td>28</td>\n",
              "      <td>336951</td>\n",
              "      <td>12</td>\n",
              "      <td>0</td>\n",
              "      <td>0</td>\n",
              "      <td>40</td>\n",
              "      <td>0</td>\n",
              "      <td>1</td>\n",
              "      <td>0</td>\n",
              "      <td>0</td>\n",
              "      <td>...</td>\n",
              "      <td>0</td>\n",
              "      <td>0</td>\n",
              "      <td>0</td>\n",
              "      <td>0</td>\n",
              "      <td>0</td>\n",
              "      <td>0</td>\n",
              "      <td>0</td>\n",
              "      <td>1</td>\n",
              "      <td>0</td>\n",
              "      <td>0</td>\n",
              "    </tr>\n",
              "    <tr>\n",
              "      <th>3</th>\n",
              "      <td>44</td>\n",
              "      <td>160323</td>\n",
              "      <td>10</td>\n",
              "      <td>7688</td>\n",
              "      <td>0</td>\n",
              "      <td>40</td>\n",
              "      <td>0</td>\n",
              "      <td>0</td>\n",
              "      <td>1</td>\n",
              "      <td>0</td>\n",
              "      <td>...</td>\n",
              "      <td>0</td>\n",
              "      <td>0</td>\n",
              "      <td>0</td>\n",
              "      <td>0</td>\n",
              "      <td>0</td>\n",
              "      <td>0</td>\n",
              "      <td>0</td>\n",
              "      <td>1</td>\n",
              "      <td>0</td>\n",
              "      <td>0</td>\n",
              "    </tr>\n",
              "    <tr>\n",
              "      <th>4</th>\n",
              "      <td>34</td>\n",
              "      <td>198693</td>\n",
              "      <td>6</td>\n",
              "      <td>0</td>\n",
              "      <td>0</td>\n",
              "      <td>30</td>\n",
              "      <td>0</td>\n",
              "      <td>0</td>\n",
              "      <td>1</td>\n",
              "      <td>0</td>\n",
              "      <td>...</td>\n",
              "      <td>0</td>\n",
              "      <td>0</td>\n",
              "      <td>0</td>\n",
              "      <td>0</td>\n",
              "      <td>0</td>\n",
              "      <td>0</td>\n",
              "      <td>0</td>\n",
              "      <td>1</td>\n",
              "      <td>0</td>\n",
              "      <td>0</td>\n",
              "    </tr>\n",
              "  </tbody>\n",
              "</table>\n",
              "<p>5 rows × 102 columns</p>\n",
              "</div>"
            ],
            "text/plain": [
              "   Age  fnlwgt  Education_Num  Capital_Gain  Capital_Loss  Hours_per_week  \\\n",
              "0   25  226802              7             0             0              40   \n",
              "1   38   89814              9             0             0              50   \n",
              "2   28  336951             12             0             0              40   \n",
              "3   44  160323             10          7688             0              40   \n",
              "4   34  198693              6             0             0              30   \n",
              "\n",
              "   Workclass_ Federal-gov  Workclass_ Local-gov  Workclass_ Private  \\\n",
              "0                       0                     0                   1   \n",
              "1                       0                     0                   1   \n",
              "2                       0                     1                   0   \n",
              "3                       0                     0                   1   \n",
              "4                       0                     0                   1   \n",
              "\n",
              "   Workclass_ Self-emp-inc  ...  Country_ Portugal  Country_ Puerto-Rico  \\\n",
              "0                        0  ...                  0                     0   \n",
              "1                        0  ...                  0                     0   \n",
              "2                        0  ...                  0                     0   \n",
              "3                        0  ...                  0                     0   \n",
              "4                        0  ...                  0                     0   \n",
              "\n",
              "   Country_ Scotland  Country_ South  Country_ Taiwan  Country_ Thailand  \\\n",
              "0                  0               0                0                  0   \n",
              "1                  0               0                0                  0   \n",
              "2                  0               0                0                  0   \n",
              "3                  0               0                0                  0   \n",
              "4                  0               0                0                  0   \n",
              "\n",
              "   Country_ Trinadad&Tobago  Country_ United-States  Country_ Vietnam  \\\n",
              "0                         0                       1                 0   \n",
              "1                         0                       1                 0   \n",
              "2                         0                       1                 0   \n",
              "3                         0                       1                 0   \n",
              "4                         0                       1                 0   \n",
              "\n",
              "   Country_ Yugoslavia  \n",
              "0                    0  \n",
              "1                    0  \n",
              "2                    0  \n",
              "3                    0  \n",
              "4                    0  \n",
              "\n",
              "[5 rows x 102 columns]"
            ]
          },
          "execution_count": 26,
          "metadata": {},
          "output_type": "execute_result"
        }
      ],
      "source": [
        "x_test = pd.get_dummies(x_test)\n",
        "x_test = x_test[x_train.columns]\n",
        "x_test.head()"
      ]
    },
    {
      "cell_type": "markdown",
      "metadata": {
        "id": "vfjz9dpbx2kQ"
      },
      "source": [
        "<font color = blue>**Step 5: Summary of data**"
      ]
    },
    {
      "cell_type": "code",
      "execution_count": null,
      "metadata": {
        "id": "xcVHN9gEx2kR",
        "outputId": "5c5c80bf-aa27-439a-928a-345824a0a1a8"
      },
      "outputs": [
        {
          "data": {
            "text/html": [
              "<div>\n",
              "<style scoped>\n",
              "    .dataframe tbody tr th:only-of-type {\n",
              "        vertical-align: middle;\n",
              "    }\n",
              "\n",
              "    .dataframe tbody tr th {\n",
              "        vertical-align: top;\n",
              "    }\n",
              "\n",
              "    .dataframe thead th {\n",
              "        text-align: right;\n",
              "    }\n",
              "</style>\n",
              "<table border=\"1\" class=\"dataframe\">\n",
              "  <thead>\n",
              "    <tr style=\"text-align: right;\">\n",
              "      <th></th>\n",
              "      <th>Age</th>\n",
              "      <th>fnlwgt</th>\n",
              "      <th>Education_Num</th>\n",
              "      <th>Capital_Gain</th>\n",
              "      <th>Capital_Loss</th>\n",
              "      <th>Hours_per_week</th>\n",
              "    </tr>\n",
              "  </thead>\n",
              "  <tbody>\n",
              "    <tr>\n",
              "      <th>count</th>\n",
              "      <td>30162.000000</td>\n",
              "      <td>3.016200e+04</td>\n",
              "      <td>30162.000000</td>\n",
              "      <td>30162.000000</td>\n",
              "      <td>30162.000000</td>\n",
              "      <td>30162.000000</td>\n",
              "    </tr>\n",
              "    <tr>\n",
              "      <th>mean</th>\n",
              "      <td>38.437902</td>\n",
              "      <td>1.897938e+05</td>\n",
              "      <td>10.121312</td>\n",
              "      <td>1092.007858</td>\n",
              "      <td>88.372489</td>\n",
              "      <td>40.931238</td>\n",
              "    </tr>\n",
              "    <tr>\n",
              "      <th>std</th>\n",
              "      <td>13.134665</td>\n",
              "      <td>1.056530e+05</td>\n",
              "      <td>2.549995</td>\n",
              "      <td>7406.346497</td>\n",
              "      <td>404.298370</td>\n",
              "      <td>11.979984</td>\n",
              "    </tr>\n",
              "    <tr>\n",
              "      <th>min</th>\n",
              "      <td>17.000000</td>\n",
              "      <td>1.376900e+04</td>\n",
              "      <td>1.000000</td>\n",
              "      <td>0.000000</td>\n",
              "      <td>0.000000</td>\n",
              "      <td>1.000000</td>\n",
              "    </tr>\n",
              "    <tr>\n",
              "      <th>25%</th>\n",
              "      <td>28.000000</td>\n",
              "      <td>1.176272e+05</td>\n",
              "      <td>9.000000</td>\n",
              "      <td>0.000000</td>\n",
              "      <td>0.000000</td>\n",
              "      <td>40.000000</td>\n",
              "    </tr>\n",
              "    <tr>\n",
              "      <th>50%</th>\n",
              "      <td>37.000000</td>\n",
              "      <td>1.784250e+05</td>\n",
              "      <td>10.000000</td>\n",
              "      <td>0.000000</td>\n",
              "      <td>0.000000</td>\n",
              "      <td>40.000000</td>\n",
              "    </tr>\n",
              "    <tr>\n",
              "      <th>75%</th>\n",
              "      <td>47.000000</td>\n",
              "      <td>2.376285e+05</td>\n",
              "      <td>13.000000</td>\n",
              "      <td>0.000000</td>\n",
              "      <td>0.000000</td>\n",
              "      <td>45.000000</td>\n",
              "    </tr>\n",
              "    <tr>\n",
              "      <th>max</th>\n",
              "      <td>90.000000</td>\n",
              "      <td>1.484705e+06</td>\n",
              "      <td>16.000000</td>\n",
              "      <td>99999.000000</td>\n",
              "      <td>4356.000000</td>\n",
              "      <td>99.000000</td>\n",
              "    </tr>\n",
              "  </tbody>\n",
              "</table>\n",
              "</div>"
            ],
            "text/plain": [
              "                Age        fnlwgt  Education_Num  Capital_Gain  Capital_Loss  \\\n",
              "count  30162.000000  3.016200e+04   30162.000000  30162.000000  30162.000000   \n",
              "mean      38.437902  1.897938e+05      10.121312   1092.007858     88.372489   \n",
              "std       13.134665  1.056530e+05       2.549995   7406.346497    404.298370   \n",
              "min       17.000000  1.376900e+04       1.000000      0.000000      0.000000   \n",
              "25%       28.000000  1.176272e+05       9.000000      0.000000      0.000000   \n",
              "50%       37.000000  1.784250e+05      10.000000      0.000000      0.000000   \n",
              "75%       47.000000  2.376285e+05      13.000000      0.000000      0.000000   \n",
              "max       90.000000  1.484705e+06      16.000000  99999.000000   4356.000000   \n",
              "\n",
              "       Hours_per_week  \n",
              "count    30162.000000  \n",
              "mean        40.931238  \n",
              "std         11.979984  \n",
              "min          1.000000  \n",
              "25%         40.000000  \n",
              "50%         40.000000  \n",
              "75%         45.000000  \n",
              "max         99.000000  "
            ]
          },
          "execution_count": 27,
          "metadata": {},
          "output_type": "execute_result"
        }
      ],
      "source": [
        "x_train[['Age','fnlwgt','Education_Num','Capital_Gain','Capital_Loss', 'Hours_per_week']].describe( )"
      ]
    },
    {
      "cell_type": "code",
      "execution_count": null,
      "metadata": {
        "id": "h5bwMFRwx2kS",
        "outputId": "915dc780-2ac6-4c8d-8e83-b25bd3ce919e"
      },
      "outputs": [
        {
          "name": "stdout",
          "output_type": "stream",
          "text": [
            "The number of 1s in each columns produced by one-to-K encoding:\n"
          ]
        },
        {
          "data": {
            "text/plain": [
              "Workclass_ Federal-gov                     943\n",
              "Workclass_ Local-gov                      2067\n",
              "Workclass_ Private                       22286\n",
              "Workclass_ Self-emp-inc                   1074\n",
              "Workclass_ Self-emp-not-inc               2499\n",
              "Workclass_ State-gov                      1279\n",
              "Workclass_ Without-pay                      14\n",
              "Education_ 10th                            820\n",
              "Education_ 11th                           1048\n",
              "Education_ 12th                            377\n",
              "Education_ 1st-4th                         151\n",
              "Education_ 5th-6th                         288\n",
              "Education_ 7th-8th                         557\n",
              "Education_ 9th                             455\n",
              "Education_ Assoc-acdm                     1008\n",
              "Education_ Assoc-voc                      1307\n",
              "Education_ Bachelors                      5044\n",
              "Education_ Doctorate                       375\n",
              "Education_ HS-grad                        9840\n",
              "Education_ Masters                        1627\n",
              "Education_ Preschool                        45\n",
              "Education_ Prof-school                     542\n",
              "Education_ Some-college                   6678\n",
              "Martial_Status_ Divorced                  4214\n",
              "Martial_Status_ Married-AF-spouse           21\n",
              "Martial_Status_ Married-civ-spouse       14065\n",
              "Martial_Status_ Married-spouse-absent      370\n",
              "Martial_Status_ Never-married             9726\n",
              "Martial_Status_ Separated                  939\n",
              "Martial_Status_ Widowed                    827\n",
              "                                         ...  \n",
              "Country_ Germany                           128\n",
              "Country_ Greece                             29\n",
              "Country_ Guatemala                          63\n",
              "Country_ Haiti                              42\n",
              "Country_ Honduras                           12\n",
              "Country_ Hong                               19\n",
              "Country_ Hungary                            13\n",
              "Country_ India                             100\n",
              "Country_ Iran                               42\n",
              "Country_ Ireland                            24\n",
              "Country_ Italy                              68\n",
              "Country_ Jamaica                            80\n",
              "Country_ Japan                              59\n",
              "Country_ Laos                               17\n",
              "Country_ Mexico                            610\n",
              "Country_ Nicaragua                          33\n",
              "Country_ Outlying-US(Guam-USVI-etc)         14\n",
              "Country_ Peru                               30\n",
              "Country_ Philippines                       188\n",
              "Country_ Poland                             56\n",
              "Country_ Portugal                           34\n",
              "Country_ Puerto-Rico                       109\n",
              "Country_ Scotland                           11\n",
              "Country_ South                              71\n",
              "Country_ Taiwan                             42\n",
              "Country_ Thailand                           17\n",
              "Country_ Trinadad&Tobago                    18\n",
              "Country_ United-States                   27504\n",
              "Country_ Vietnam                            64\n",
              "Country_ Yugoslavia                         16\n",
              "Length: 96, dtype: int64"
            ]
          },
          "execution_count": 28,
          "metadata": {},
          "output_type": "execute_result"
        }
      ],
      "source": [
        "print(\"The number of 1s in each columns produced by one-to-K encoding:\")\n",
        "x_train.drop(['Age','fnlwgt','Education_Num','Capital_Gain','Capital_Loss', 'Hours_per_week'], axis=1).sum()"
      ]
    },
    {
      "cell_type": "markdown",
      "metadata": {
        "id": "FWhlM-1gx2kS"
      },
      "source": [
        "<font color = blue>**Step 6: Turn the dataframes into arrays**"
      ]
    },
    {
      "cell_type": "code",
      "execution_count": null,
      "metadata": {
        "id": "JvWjC7U8x2kT"
      },
      "outputs": [],
      "source": [
        "x_train = x_train.values\n",
        "x_test = x_test.values\n",
        "y_train = y_train.values\n",
        "y_test = y_test.values"
      ]
    },
    {
      "cell_type": "code",
      "execution_count": null,
      "metadata": {
        "id": "JnoWwljBx2kT",
        "outputId": "109e9437-0702-4a42-97eb-af0afcbd38c4"
      },
      "outputs": [
        {
          "name": "stdout",
          "output_type": "stream",
          "text": [
            "(30162, 102) (15060, 102) (30162,) (15060,)\n"
          ]
        }
      ],
      "source": [
        "print(x_train.shape, x_test.shape, y_train.shape, y_test.shape)"
      ]
    },
    {
      "cell_type": "markdown",
      "metadata": {
        "id": "HRt2zZ-px2kW"
      },
      "source": [
        "#### **Q1.2 Derive gradient and Hessian**"
      ]
    },
    {
      "cell_type": "code",
      "execution_count": null,
      "metadata": {
        "id": "w3qVS90Hx2kW",
        "outputId": "61241879-6f89-4551-fc41-7c0b2e638a4f"
      },
      "outputs": [
        {
          "data": {
            "image/jpeg": "[encoded data removed]",
            "text/plain": [
              "<IPython.core.display.Image object>"
            ]
          },
          "execution_count": 158,
          "metadata": {},
          "output_type": "execute_result"
        }
      ],
      "source": [
        "from IPython.display import Image\n",
        "Image(\"derive.jpg\")"
      ]
    },
    {
      "cell_type": "markdown",
      "metadata": {
        "id": "QFdmyBeyx2kX"
      },
      "source": [
        "#### Q1.3 Create your mylogistic_l2 class"
      ]
    },
    {
      "cell_type": "markdown",
      "metadata": {
        "id": "SeGF8Wlrx2kX"
      },
      "source": [
        "Show the learned  $w$  as well as test accuracy for the cases below. If  $w$  is too long for you, show selected  $w$  for continuous-valued, binary-valued, and the constant term.   \n",
        "\n",
        "*   Case 1: lambda = 1 for all coefficients  \n",
        "*   Case 2: lambda = 1 for all but the intercept, no regularization for intercept term.  \n",
        "*   Case 3: lambda = 1 for numerical-valued features, lambda = 0.5 for binary-valued features, no regularization for intercept term.  \n",
        "\n",
        "\n",
        "\n"
      ]
    },
    {
      "cell_type": "markdown",
      "metadata": {
        "id": "SS1LwwAOx2kY"
      },
      "source": [
        "logic1 = mylogistic_l2(reg_vec = lambda_vec, max_iter = 1000, tol = 1e-5, add_intercept = True)   \n",
        "logic1.fit(X_train, Y_train)   \n",
        "ypred = logic1.predict(X_test)"
      ]
    },
    {
      "cell_type": "markdown",
      "metadata": {
        "id": "CPmvTgpQx2kY"
      },
      "source": [
        "The logic of the code is as follows:\n",
        "\n",
        "Firstly, define functions to calculate the gradient and Hessian, as well as the loss function, for use in the class. During class initialization, store all variables and create a diagonal matrix with a large lambda value. When fitting, use the closed-form solution of Ridge regression as the initial $w$, then calculate the gradient and Hessian, plug them into the formula to compute the new $w$. Simultaneously, use the loss function to calculate the loss, and stop updating when the difference is less than the tolerance (tol) or the number of iterations exceeds the maximum iteration count (max_iter). The class's y is the predicted value obtained using $w$, $x$, and the sigmoid function, while $t$ represents the true values.\n",
        "\n",
        "During the prediction, only the previously fitted $w$ and testing $x$ need to be input into the sigmoid function to obtain the predicted values for $y$."
      ]
    },
    {
      "cell_type": "code",
      "execution_count": null,
      "metadata": {
        "id": "nAx4cO4Tx2kZ"
      },
      "outputs": [],
      "source": [
        "def Gradient(w, big_lambda, x, y, t):\n",
        "    return big_lambda.dot(w) + x.T.dot(y-t)\n",
        "def Hessian(w, big_lambda, x, y, t):\n",
        "    n = len(y)\n",
        "    R = np.zeros((n,n))\n",
        "    for i in range(n):\n",
        "        R[i][i] = y[i][0] * (1 - y[i][0])\n",
        "    return big_lambda + x.T.dot(R).dot(x)\n",
        "def Loss(y, t):\n",
        "    loss = 0\n",
        "    sample = len(y)\n",
        "    for i in range(sample):\n",
        "        loss += -( t[i][0] * np.log(y[i][0]) + (1-t[i][0]) * np.log( 1 - y[i][0]))\n",
        "    return loss"
      ]
    },
    {
      "cell_type": "code",
      "execution_count": null,
      "metadata": {
        "id": "fdGB4nQtx2ka"
      },
      "outputs": [],
      "source": [
        "class mylogistic_l2:\n",
        "    def __init__(self, reg_vec, max_iter, tol, add_intercept):\n",
        "        self.reg_vec = reg_vec\n",
        "        self.feature_dim = len(reg_vec)\n",
        "        self.big_lambda = np.diag(self.reg_vec)\n",
        "        self.max_iter = max_iter\n",
        "        self.tol = tol\n",
        "        self.add_intercept = add_intercept\n",
        "\n",
        "    def fit(self, x_train, y_train):\n",
        "        self.num = x_train.shape[0]\n",
        "        self.x = x_train # shape = (num, feature_dim)\n",
        "        self.t = y_train.reshape((1,len(y_train))).T # shape = (num, 1)\n",
        "        self.b = np.average(self.reg_vec)\n",
        "\n",
        "        if self.add_intercept:\n",
        "            constant = np.ones( self.num )\n",
        "            self.x = np.c_[self.x, constant] # shape = (num, feature_dim + 1)\n",
        "\n",
        "        self.w = np.linalg.inv((self.x.T).dot(self.x) + (self.b)*np.identity(self.feature_dim)) \\\n",
        "        .dot(self.x.T).dot(self.t) # shape = (deature_dim, 1)\n",
        "\n",
        "        self.y = np.zeros((self.num,1)) # shape = (num, 1)\n",
        "\n",
        "        for i in range(self.num):\n",
        "            self.y[i][0] = 1/(1 + np.exp(-self.w.T.dot(self.x[i])))\n",
        "\n",
        "        self.iter_time = 0\n",
        "        while (self.iter_time <= self.max_iter):\n",
        "            cur_loss = Loss(self.y, self.t)\n",
        "            grad = Gradient(self.w, self.big_lambda, self.x, self.y, self.t)\n",
        "            hess = Hessian(self.w, self.big_lambda, self.x, self.y, self.t)\n",
        "            new_w = self.w - np.linalg.inv(hess).dot(grad)\n",
        "            # update y\n",
        "            for i in range(self.num):\n",
        "                self.y[i][0] = 1/(1 + np.exp(-new_w.T.dot(self.x[i])))\n",
        "            new_loss = Loss(self.y, self.t)\n",
        "            # update loss\n",
        "            self.loss = new_loss\n",
        "            # update w\n",
        "            self.w = new_w\n",
        "            if np.abs(new_loss - cur_loss) < self.tol:\n",
        "                break\n",
        "            self.iter_time += 1\n",
        "\n",
        "    def predict(self, x_test):\n",
        "        sample = x_test.shape[0]\n",
        "        y_pre = np.zeros(sample)\n",
        "        if self.add_intercept:\n",
        "            constant = np.ones( sample )\n",
        "            x_test = np.c_[x_test, constant]\n",
        "        for i in range(sample):\n",
        "            prob = 1/(1 + np.exp(-self.w.T.dot(x_test[i])))\n",
        "            trans = lambda prob : 1 if prob > 0.5 else 0\n",
        "            y_pre[i] = trans(prob)\n",
        "        return y_pre"
      ]
    },
    {
      "cell_type": "code",
      "execution_count": null,
      "metadata": {
        "id": "x32Up8plx2ka"
      },
      "outputs": [],
      "source": [
        "def accuracy(y_pre, y):\n",
        "    num = len(y_pre)\n",
        "    num2 = len(y)\n",
        "    if num != num2:\n",
        "        print(\"Dimension error\")\n",
        "        return 1\n",
        "    else:\n",
        "        correct = 0\n",
        "        for i in range(num):\n",
        "            if y_pre[i] == y[i]:\n",
        "                correct += 1\n",
        "        return correct/num"
      ]
    },
    {
      "cell_type": "markdown",
      "metadata": {
        "id": "vm3v52WYx2kb"
      },
      "source": [
        "##### Q1.3 Case 1: lambda = 1 for all coefficients"
      ]
    },
    {
      "cell_type": "code",
      "execution_count": null,
      "metadata": {
        "id": "JDeNYF0Ex2kc"
      },
      "outputs": [],
      "source": [
        "lambda_vec = np.ones(x_train.shape[1] + 1)\n",
        "reg1 = mylogistic_l2(lambda_vec,1000,1e-5, 1)\n",
        "reg1.fit(x_train, y_train)\n",
        "pre_y1 = reg1.predict( x_test )\n",
        "w1 = reg1.w\n",
        "accu1 = accuracy(pre_y1, y_test)"
      ]
    },
    {
      "cell_type": "code",
      "execution_count": null,
      "metadata": {
        "id": "YhgIFVrex2kc",
        "outputId": "db0101a6-a4eb-40ff-a091-5bb59cbcc21c"
      },
      "outputs": [
        {
          "name": "stdout",
          "output_type": "stream",
          "text": [
            "Learned w(transposed) = \n",
            " [[ 2.48591297e-02  7.26281835e-07  1.85806163e-01  3.16590245e-04\n",
            "   6.38679434e-04  2.90215841e-02  1.89694410e-01 -4.97719502e-01\n",
            "  -3.10975203e-01 -1.29181492e-01 -7.94111558e-01 -6.18745004e-01\n",
            "  -1.17270706e+00 -4.52249248e-01 -5.44907404e-01 -3.82721833e-01\n",
            "  -9.99810311e-02 -2.62922226e-01 -6.29791390e-01 -4.96565840e-01\n",
            "  -3.08326937e-01 -1.27584811e-01  1.28534378e-01  5.87953356e-01\n",
            "  -2.50481307e-01  2.99991415e-01 -1.37579993e+00  6.82097030e-01\n",
            "  -1.00989638e-01 -1.00975740e+00  1.19612260e+00  8.38966951e-01\n",
            "  -9.56673074e-01 -1.50523219e+00 -1.08232392e+00 -8.14848370e-01\n",
            "  -8.78492153e-02 -2.46913578e-02  7.15174653e-01 -1.06504054e+00\n",
            "  -7.73348089e-01 -3.53722827e-01 -9.03671285e-01 -1.69395624e+00\n",
            "   4.29670534e-01  4.99488476e-01  2.05962312e-01  5.68478621e-01\n",
            "  -1.78947443e-01 -5.76254831e-01 -3.75781230e-01 -1.12608336e+00\n",
            "  -1.50192093e+00 -5.01524893e-01  7.47819833e-01 -1.02439618e+00\n",
            "  -2.92668734e-01 -6.35195702e-01 -8.96890178e-01 -4.84594619e-01\n",
            "  -2.09367501e+00 -1.24007040e+00  9.03420736e-01  4.04668560e-01\n",
            "  -5.46920551e-01 -1.31374667e+00  4.27865169e-01 -9.47705967e-01\n",
            "  -1.07395558e-01 -4.09492098e-01  3.77034140e-01  5.45751678e-01\n",
            "   5.23589384e-01 -6.70323916e-01 -1.09516216e-01  4.53277948e-02\n",
            "  -1.63971889e-01 -4.71983492e-02 -4.02281404e-03 -3.44708812e-01\n",
            "   1.03362979e-01  4.50497096e-01  8.22875669e-01  9.41389496e-02\n",
            "   2.92357805e-01 -3.50891475e-01 -4.39859205e-01 -4.07586321e-01\n",
            "  -6.90804284e-01 -4.47783816e-01  3.91129903e-01  8.03243758e-02\n",
            "   7.97357703e-02 -1.81402777e-01 -9.03628229e-02 -9.81576059e-01\n",
            "  -7.79910252e-02 -3.31100773e-01 -1.88816101e-01  2.89337136e-01\n",
            "  -8.34197419e-01  5.39068128e-01 -3.33374541e+00]]\n",
            "Accuracy =  0.8480743691899071\n"
          ]
        }
      ],
      "source": [
        "print(\"Learned w(transposed) = \\n\", w1.T)\n",
        "print(\"Accuracy = \", accu1)"
      ]
    },
    {
      "cell_type": "markdown",
      "metadata": {
        "id": "Is7w9jOwx2kd"
      },
      "source": [
        "##### Q1.3 Case 2: lambda = 1 for all but the intercept, no regularization for intercept term"
      ]
    },
    {
      "cell_type": "code",
      "execution_count": null,
      "metadata": {
        "id": "ef-1ZQL4x2ke"
      },
      "outputs": [],
      "source": [
        "lambda_vec = np.ones(x_train.shape[1] + 1)\n",
        "lambda_vec[-1] = 0\n",
        "reg2 = mylogistic_l2(lambda_vec,1000,1e-5, 1)\n",
        "reg2.fit(x_train, y_train)\n",
        "pre_y2 = reg2.predict( x_test )\n",
        "w2 = reg2.w\n",
        "accu2 = accuracy(pre_y2, y_test)"
      ]
    },
    {
      "cell_type": "code",
      "execution_count": null,
      "metadata": {
        "id": "mx6CTbYmx2kf",
        "outputId": "c54e9bb3-3627-4d9b-9833-0cbe8122e151"
      },
      "outputs": [
        {
          "name": "stdout",
          "output_type": "stream",
          "text": [
            "Learned w(transposed) = \n",
            " [[ 2.54336822e-02  7.50706804e-07  2.95324923e-01  3.17024478e-04\n",
            "   6.39652126e-04  2.94914512e-02  7.05717318e-01  1.78026500e-02\n",
            "   2.09126595e-01  3.82731145e-01 -2.79821711e-01 -1.04552949e-01\n",
            "  -9.31003048e-01  9.08118762e-02 -1.06210390e-01 -5.68864880e-02\n",
            "   7.06129017e-01  5.36014978e-01  1.16361327e-01  1.37527872e-01\n",
            "  -4.01951496e-01 -1.13370201e-01 -7.43801938e-02  6.79669927e-02\n",
            "  -1.95742294e-02 -1.15929727e-02 -1.15969699e+00  2.67049827e-01\n",
            "   2.18010721e-02 -5.26538178e-01  1.61452758e+00  1.36751001e+00\n",
            "  -4.92456781e-01 -1.01532722e+00 -6.05766415e-01 -3.41949002e-01\n",
            "   1.64109182e-01  2.28422252e-01  9.64856017e-01 -8.17967488e-01\n",
            "  -5.20782272e-01 -9.91243550e-02 -6.49283758e-01 -1.55300394e+00\n",
            "   6.78427764e-01  7.51030497e-01  4.55411798e-01  8.18714335e-01\n",
            "   7.31938653e-02 -4.21151206e-02  1.99456866e-01 -5.83542666e-01\n",
            "  -9.36996740e-01  7.53014758e-02  1.28789619e+00 -3.72048376e-01\n",
            "   3.94360616e-01  4.30693947e-02 -2.61235808e-01  1.95854174e-01\n",
            "  -4.27150728e-01  4.27150728e-01  1.00965472e+00  5.02337197e-01\n",
            "  -4.58396918e-01 -1.24053337e+00  5.27833699e-01 -8.67620758e-01\n",
            "  -2.75702550e-02 -3.15345728e-01  4.72832596e-01  6.28755384e-01\n",
            "   6.23911101e-01 -5.88433188e-01 -2.96923355e-02  1.24844059e-01\n",
            "  -1.43574430e-01  2.48070507e-02  6.14826819e-02 -2.48769643e-01\n",
            "   1.94794455e-01  5.25952046e-01  9.31972681e-01  1.87606692e-01\n",
            "   3.79606530e-01 -2.87259337e-01 -3.10421302e-01 -3.32413817e-01\n",
            "  -6.50777756e-01 -3.81261235e-01  4.89030076e-01  1.76281854e-01\n",
            "   1.74545517e-01 -7.36414561e-02 -3.10934763e-02 -8.98503737e-01\n",
            "   6.72286129e-03 -2.72168679e-01 -1.23870297e-01  3.96789072e-01\n",
            "  -7.54273373e-01  6.10526925e-01 -8.88722780e+00]]\n",
            "Accuracy =  0.847808764940239\n"
          ]
        }
      ],
      "source": [
        "print(\"Learned w(transposed) = \\n\", w2.T)\n",
        "print(\"Accuracy = \", accu2)"
      ]
    },
    {
      "cell_type": "markdown",
      "metadata": {
        "id": "iQSY4prFx2kg"
      },
      "source": [
        "##### Q1.3 Case 3: lambda = 1 for numerical-valued features, lambda = 0.5 for binary-valued features, no regularization for intercept term"
      ]
    },
    {
      "cell_type": "code",
      "execution_count": null,
      "metadata": {
        "id": "MOyJ4F1fx2kg"
      },
      "outputs": [],
      "source": [
        "feature = x_train.shape[1]\n",
        "conti = range(6)\n",
        "binary = range(6,feature)\n",
        "constant = feature"
      ]
    },
    {
      "cell_type": "code",
      "execution_count": null,
      "metadata": {
        "id": "KjDt3xDsx2kh"
      },
      "outputs": [],
      "source": [
        "lambda_vec = np.ones(x_train.shape[1] + 1)\n",
        "lambda_vec[binary] = 0.5\n",
        "lambda_vec[-1] = 0\n",
        "reg3 = mylogistic_l2(lambda_vec,1000,1e-5, 1)\n",
        "reg3.fit(x_train, y_train)\n",
        "pre_y3 = reg3.predict( x_test )\n",
        "w3 = reg3.w\n",
        "accu3 = accuracy(pre_y3, y_test)"
      ]
    },
    {
      "cell_type": "code",
      "execution_count": null,
      "metadata": {
        "id": "qcVnfx5Ox2kh",
        "outputId": "03f82fc9-00e9-475b-a3c4-7e97a08ce162"
      },
      "outputs": [
        {
          "name": "stdout",
          "output_type": "stream",
          "text": [
            "Learned w(transposed) = \n",
            " [[ 2.54757306e-02  7.51944312e-07  3.19092342e-01  3.17319913e-04\n",
            "   6.40115460e-04  2.95135991e-02  7.66990116e-01  7.62915465e-02\n",
            "   2.68338059e-01  4.43128005e-01 -2.20821080e-01 -4.63422172e-02\n",
            "  -1.28758443e+00  2.18992475e-01 -2.26138731e-03  2.18816236e-02\n",
            "   9.74981437e-01  7.54034100e-01  2.92224730e-01  2.93070078e-01\n",
            "  -4.19612080e-01 -1.04346489e-01 -1.12963414e-01 -3.78240642e-02\n",
            "   3.76517836e-02 -7.30516163e-02 -2.08394383e+00  1.86338344e-01\n",
            "   5.48283061e-02 -5.72016463e-01  1.82571096e+00  1.39641689e+00\n",
            "  -5.47067026e-01 -1.05936562e+00 -6.55642151e-01 -3.88036591e-01\n",
            "   2.36234456e-01  3.00253533e-01  1.03825745e+00 -7.52669809e-01\n",
            "  -4.53424415e-01 -2.69071693e-02 -5.82347571e-01 -2.00233647e+00\n",
            "   7.51037233e-01  8.27361969e-01  5.28330008e-01  8.95057963e-01\n",
            "   1.45241841e-01 -8.34438407e-02  2.32699144e-01 -5.92702337e-01\n",
            "  -9.22764551e-01  1.11240624e-01  1.25497096e+00 -3.83664192e-01\n",
            "   4.13058381e-01  4.13741738e-02 -2.63868161e-01  1.93099799e-01\n",
            "  -4.29102319e-01  4.29102319e-01  1.18913496e+00  5.50823608e-01\n",
            "  -4.76703525e-01 -1.45906500e+00  5.82266265e-01 -1.06198153e+00\n",
            "  -9.41603138e-03 -3.18451360e-01  5.24213674e-01  7.29262555e-01\n",
            "   6.74417681e-01 -6.38233985e-01 -9.70381962e-03  1.74242999e-01\n",
            "  -2.36216831e-01  3.80746796e-02  1.00364760e-01 -2.47188688e-01\n",
            "   2.38206932e-01  6.41987678e-01  1.00609330e+00  2.33159552e-01\n",
            "   4.22778121e-01 -3.53092076e-01 -2.90744306e-01 -3.80716116e-01\n",
            "  -9.62423327e-01 -4.49692076e-01  5.13214009e-01  2.19832864e-01\n",
            "   2.27002285e-01 -5.01169772e-02 -1.79082775e-02 -9.59642147e-01\n",
            "   1.67395334e-02 -3.27257717e-01 -1.39435386e-01  4.28358923e-01\n",
            "  -8.46069990e-01  7.51083220e-01 -9.31135045e+00]]\n",
            "Accuracy =  0.847675962815405\n"
          ]
        }
      ],
      "source": [
        "print(\"Learned w(transposed) = \\n\", w3.T)\n",
        "print(\"Accuracy = \", accu3)"
      ]
    },
    {
      "cell_type": "markdown",
      "metadata": {
        "id": "3GxDzTHyx2ki"
      },
      "source": [
        "#### Q1.4"
      ]
    },
    {
      "cell_type": "markdown",
      "metadata": {
        "id": "2YOnsTs0x2ki"
      },
      "source": [
        "Further split the training data into subtraining (90%) and tuning (10%) to search for the best hyperparameters. Set the regularization coefficient for the constant term to zero. Allow different regularizations for continuous-valued and binary-valued features. Let  $a_1$  and  $a_2$  denote the regularization coefficients for continuous-valued and binary-valued features. Search the best  $a_1$  and  $a_2$  and report the test accuracy using the best hyper-parameters. You should follow the following procedure to search for the best hyperparameters."
      ]
    },
    {
      "cell_type": "markdown",
      "metadata": {
        "id": "LfduPYhTx2kj"
      },
      "source": [
        "Approach: Consider the last 10% of the data as the tuning set, and use the initial 90% as the sub-training set. Use my class, grids, and both the tuning and sub-training sets to run the model, and follow the instructions in the assignment to fine-tune the lambda parameter."
      ]
    },
    {
      "cell_type": "markdown",
      "metadata": {
        "id": "0i49zAOjx2kj"
      },
      "source": [
        "##### Step 1: Choose a set of grids among a reasonable range.\n",
        "I determined grids = np.array([0.01, 0.1, 0.25, 0.5, 1, 5, 10, 15, 20, 30, 40, 60, 80, 100])"
      ]
    },
    {
      "cell_type": "code",
      "execution_count": null,
      "metadata": {
        "id": "tOwkYdqrx2km",
        "outputId": "d822d5d6-a0c1-4651-db27-11eca920a10b"
      },
      "outputs": [
        {
          "name": "stdout",
          "output_type": "stream",
          "text": [
            "Sub-training set size =  27145 , and tuning set size =  3017\n"
          ]
        }
      ],
      "source": [
        "rows = x_train.shape[0]\n",
        "cut = int(0.9*rows)\n",
        "print(\"Sub-training set size = \", cut, \", and tuning set size = \", rows-cut)\n",
        "x_sub_train = x_train[:cut]\n",
        "y_sub_train = y_train[:cut]\n",
        "x_tuning = x_train[cut:]\n",
        "y_tuning = y_train[cut:]"
      ]
    },
    {
      "cell_type": "code",
      "execution_count": null,
      "metadata": {
        "id": "rkKRJTUax2kn",
        "outputId": "302ba3b1-7bee-4e74-9918-56c214c0588f"
      },
      "outputs": [
        {
          "name": "stdout",
          "output_type": "stream",
          "text": [
            "(27145, 102)\n",
            "(27145,)\n",
            "(3017, 102)\n",
            "(3017,)\n"
          ]
        }
      ],
      "source": [
        "print(x_sub_train.shape)\n",
        "print(y_sub_train.shape)\n",
        "print(x_tuning.shape)\n",
        "print(y_tuning.shape)"
      ]
    },
    {
      "cell_type": "code",
      "execution_count": null,
      "metadata": {
        "id": "7IuNs4Iex2kn"
      },
      "outputs": [],
      "source": [
        "def plot(grids, accuracy_list):\n",
        "    plt.plot(grids, accuracy_list)\n",
        "    plt.title(\"Accuracy wrt different lambdas\")\n",
        "    plt.xlabel('lambda')\n",
        "    plt.ylabel('Accuracy')\n",
        "    plt.show()\n",
        "    plt.close()"
      ]
    },
    {
      "cell_type": "markdown",
      "metadata": {
        "id": "RpoXlmLkx2ko"
      },
      "source": [
        "##### Step 2: Conduct grid search with the constraint that  $a_1=a_2$. Record the best value  $a_1^*$ and $a_2^*$."
      ]
    },
    {
      "cell_type": "code",
      "execution_count": null,
      "metadata": {
        "id": "euK831x6x2ko"
      },
      "outputs": [],
      "source": [
        "grids = np.array([0.01, 0.1, 0.25, 0.5, 1, 5, 10, 15, 20, 30, 40, 60, 80, 100])\n",
        "num = len(grids)"
      ]
    },
    {
      "cell_type": "code",
      "execution_count": null,
      "metadata": {
        "id": "UnsUkbfRx2kp"
      },
      "outputs": [],
      "source": [
        "loss_list = np.zeros(num)\n",
        "accuracy_list = np.zeros(num)"
      ]
    },
    {
      "cell_type": "code",
      "execution_count": null,
      "metadata": {
        "id": "P7pJZ7Brx2kp"
      },
      "outputs": [],
      "source": [
        "for i in range(num):\n",
        "    lambda_vec = np.full((x_train.shape[1]+1, ), grids[i])\n",
        "    lambda_vec[-1] = 0\n",
        "\n",
        "    reg_a1a2 = mylogistic_l2(lambda_vec,1000,1e-5, 1)\n",
        "    reg_a1a2.fit(x_sub_train, y_sub_train)\n",
        "    pre_y_a1a2 = reg_a1a2.predict( x_tuning )\n",
        "    length = len(pre_y_a1a2)\n",
        "    accuracy_list[i] = accuracy(pre_y_a1a2, y_tuning)\n",
        "    loss_list[i] = reg_a1a2.loss"
      ]
    },
    {
      "cell_type": "code",
      "execution_count": null,
      "metadata": {
        "id": "AxljqI_ex2kq",
        "outputId": "284ca7d9-806c-4e6b-f404-61c7c1911293"
      },
      "outputs": [
        {
          "data": {
            "image/png": "[encoded data removed]",
            "text/plain": [
              "<Figure size 432x288 with 1 Axes>"
            ]
          },
          "metadata": {
            "needs_background": "light"
          },
          "output_type": "display_data"
        }
      ],
      "source": [
        "plot(grids, accuracy_list)"
      ]
    },
    {
      "cell_type": "code",
      "execution_count": null,
      "metadata": {
        "id": "hh9ZABnIx2kr",
        "outputId": "1f9b65e2-8b52-4642-dacb-bab002f0f6c7"
      },
      "outputs": [
        {
          "name": "stdout",
          "output_type": "stream",
          "text": [
            "a1_star = a2_star =  5.0\n"
          ]
        }
      ],
      "source": [
        "a1_star = a2_star = grids[np.argmax(accuracy_list)]\n",
        "print(\"a1_star = a2_star = \", a1_star)"
      ]
    },
    {
      "cell_type": "markdown",
      "metadata": {
        "id": "iihaEGQmx2kr"
      },
      "source": [
        "From the above, it is known that when a1=a2, the best a1 = a2 =5 using grids."
      ]
    },
    {
      "cell_type": "markdown",
      "metadata": {
        "id": "SDLSzvgqx2kv"
      },
      "source": [
        "##### Step 3: Fix  $a_1=a_1^*$, and search $a_2$ for the best value, call the result the new $a_2^*$."
      ]
    },
    {
      "cell_type": "markdown",
      "metadata": {
        "id": "Nv-fHlp-x2kv"
      },
      "source": [
        "Set $a_1$=5 and search best $a_2$."
      ]
    },
    {
      "cell_type": "code",
      "execution_count": null,
      "metadata": {
        "id": "QRROUhBkQfNw"
      },
      "outputs": [],
      "source": [
        "lambda_vec = np.full((x_train.shape[1]+1, ), a1_star)\n",
        "lambda_vec[-1] = 0\n",
        "loss_list_a2 = np.zeros(len(grids))\n",
        "accuracy_list_a2 = np.zeros(len(grids))\n",
        "for i in range(len(grids)):\n",
        "    lambda_vec[binary] = grids[i]\n",
        "\n",
        "    reg_a2 = mylogistic_l2(lambda_vec,1000,1e-5, 1)\n",
        "    reg_a2.fit(x_sub_train, y_sub_train)\n",
        "    pre_y_a2 = reg_a2.predict( x_tuning )\n",
        "    length = len(pre_y_a2)\n",
        "    loss_list_a2[i] = reg_a2.loss\n",
        "    accuracy_list_a2[i] = (accuracy(pre_y_a2, y_tuning))"
      ]
    },
    {
      "cell_type": "code",
      "execution_count": null,
      "metadata": {
        "outputId": "088d3619-1972-48f0-aacc-3cf45b989ba2",
        "id": "9GljWszSQYaJ"
      },
      "outputs": [
        {
          "data": {
            "image/png": "[encoded data removed]",
            "text/plain": [
              "<Figure size 432x288 with 1 Axes>"
            ]
          },
          "metadata": {
            "needs_background": "light"
          },
          "output_type": "display_data"
        }
      ],
      "source": [
        "plot(grids, accuracy_list_a2)"
      ]
    },
    {
      "cell_type": "code",
      "execution_count": null,
      "metadata": {
        "outputId": "99d2ac4d-b216-4c3e-e3d5-2529866f7098",
        "id": "wIaxsnvpQYap"
      },
      "outputs": [
        {
          "name": "stdout",
          "output_type": "stream",
          "text": [
            "New a2_star =  5.0\n"
          ]
        }
      ],
      "source": [
        "a2_sel = grids[ np.argmax(accuracy_list_a2)]\n",
        "print(\"New a2_star = \", a2_sel)"
      ]
    },
    {
      "cell_type": "markdown",
      "metadata": {
        "id": "urlA0mw2x2ky"
      },
      "source": [
        "##### Step 4: Fix $a_2=a_2^*$, and search $a_1$  for the best value."
      ]
    },
    {
      "cell_type": "code",
      "execution_count": null,
      "metadata": {
        "id": "eDMmwLdgQtnt"
      },
      "outputs": [],
      "source": [
        "lambda_vec = np.full((x_train.shape[1]+1, ), a2_star)\n",
        "lambda_vec[-1] = 0\n",
        "loss_list_a1 = np.zeros(len(grids))\n",
        "accuracy_list_a1 = np.zeros(len(grids))\n",
        "for i in range(len(grids)):\n",
        "    lambda_vec[conti] = grids[i]\n",
        "\n",
        "    reg_a1 = mylogistic_l2(lambda_vec,1000,1e-5, 1)\n",
        "    reg_a1.fit(x_sub_train, y_sub_train)\n",
        "    pre_y_a1 = reg_a1.predict( x_tuning )\n",
        "    length = len(pre_y_a1)\n",
        "    loss_list_a1[i] = reg_a1.loss\n",
        "    accuracy_list_a1[i] = accuracy(pre_y_a1, y_tuning)"
      ]
    },
    {
      "cell_type": "code",
      "execution_count": null,
      "metadata": {
        "outputId": "5304f2b6-c66a-41fe-b283-ec5a76e2fad4",
        "id": "zT8RuP2CQtoA"
      },
      "outputs": [
        {
          "data": {
            "image/png": "[encoded data removed]",
            "text/plain": [
              "<Figure size 432x288 with 1 Axes>"
            ]
          },
          "metadata": {
            "needs_background": "light"
          },
          "output_type": "display_data"
        }
      ],
      "source": [
        "plot(grids, accuracy_list_a1)"
      ]
    },
    {
      "cell_type": "code",
      "execution_count": null,
      "metadata": {
        "outputId": "cb4738b9-8f1e-4fce-fb49-8f1177d1e61b",
        "id": "Zxxqw0DzQtoA"
      },
      "outputs": [
        {
          "data": {
            "text/plain": [
              "array([0.8435532 , 0.8435532 , 0.8435532 , 0.8435532 , 0.8435532 ,\n",
              "       0.8435532 , 0.8435532 , 0.8435532 , 0.84388465, 0.84388465,\n",
              "       0.84388465, 0.84388465, 0.84388465, 0.84388465])"
            ]
          },
          "execution_count": 57,
          "metadata": {},
          "output_type": "execute_result"
        }
      ],
      "source": [
        "accuracy_list_a1"
      ]
    },
    {
      "cell_type": "code",
      "execution_count": null,
      "metadata": {
        "outputId": "4197b413-1e5e-49b9-dcad-e036352c710d",
        "id": "pNx8PdynQtoB"
      },
      "outputs": [
        {
          "data": {
            "text/plain": [
              "array([8778.12322604, 8778.12323899, 8778.12326089, 8778.12329824,\n",
              "       8778.12337615, 8778.12415181, 8778.12549492, 8778.12724115,\n",
              "       8778.12937808, 8778.13477644, 8778.14159835, 8778.15917382,\n",
              "       8778.18147641, 8778.2079506 ])"
            ]
          },
          "execution_count": 58,
          "metadata": {},
          "output_type": "execute_result"
        }
      ],
      "source": [
        "loss_list_a1"
      ]
    },
    {
      "cell_type": "code",
      "execution_count": null,
      "metadata": {
        "outputId": "87ba762b-eb59-4ecc-fdbe-a2b0c2295bb2",
        "id": "59kNOBqhQtoB"
      },
      "outputs": [
        {
          "name": "stdout",
          "output_type": "stream",
          "text": [
            "New a1_star =  20.0\n"
          ]
        }
      ],
      "source": [
        "a1_sel = grids[ np.argmax(accuracy_list_a1)]\n",
        "print(\"New a1_star = \", a1_sel)"
      ]
    },
    {
      "cell_type": "markdown",
      "metadata": {
        "id": "6eoWXx6Gx2k3"
      },
      "source": [
        "##### Step 5: Use selected a1 and a2 to train the model and report the test accuracy"
      ]
    },
    {
      "cell_type": "code",
      "execution_count": null,
      "metadata": {
        "outputId": "2fdbb7a3-934e-4c9d-c0a0-ad61c31f6382",
        "id": "DtgzYXHKROqp"
      },
      "outputs": [
        {
          "name": "stdout",
          "output_type": "stream",
          "text": [
            "Selected a1 =  20.0\n",
            "Selected a2 =  5.0\n"
          ]
        }
      ],
      "source": [
        "print(\"Selected a1 = \", a1_sel)\n",
        "print(\"Selected a2 = \", a2_sel)"
      ]
    },
    {
      "cell_type": "code",
      "execution_count": null,
      "metadata": {
        "id": "54rWFEcpROqr"
      },
      "outputs": [],
      "source": [
        "lambda_vec = np.zeros(x_train.shape[1]+1)\n",
        "lambda_vec[conti] = a1_sel\n",
        "lambda_vec[binary] = a2_sel\n",
        "\n",
        "reg_final = mylogistic_l2(lambda_vec,1000,1e-5, 1)\n",
        "reg_final.fit(x_train, y_train)\n",
        "pre_y_final = reg_final.predict( x_test )"
      ]
    },
    {
      "cell_type": "code",
      "execution_count": null,
      "metadata": {
        "outputId": "e3096740-fcc1-4505-f95f-02d9e7c10874",
        "id": "X7dkywDSROqr"
      },
      "outputs": [
        {
          "name": "stdout",
          "output_type": "stream",
          "text": [
            "Final loss =  9771.675656017565\n",
            "Final accuracy =  0.84867197875166\n"
          ]
        }
      ],
      "source": [
        "loss_final = reg_final.loss\n",
        "accu_final = accuracy(pre_y_final, y_test)\n",
        "print(\"Final loss = \", loss_final)\n",
        "print(\"Final accuracy = \", accu_final)"
      ]
    },
    {
      "cell_type": "markdown",
      "metadata": {
        "id": "ef0tfQL-ROqs"
      },
      "source": [
        "Eventually, we obtained selected $a_1$ = 20, $a_2$ =  5.0，and accuracy = 0.84867"
      ]
    },
    {
      "cell_type": "markdown",
      "metadata": {
        "id": "jacNCJg9OH13"
      },
      "source": [
        "##### Q1.5"
      ]
    },
    {
      "cell_type": "markdown",
      "metadata": {
        "id": "LxXVIE51OH13"
      },
      "source": [
        "Use sklearn.linear_model.LogisticRegression to train and test the model (including hyperparameter tuning). Compare the estimated parameters and test accuracy with those from your own models."
      ]
    },
    {
      "cell_type": "code",
      "execution_count": null,
      "metadata": {
        "id": "l_5x-pGeOH13"
      },
      "outputs": [],
      "source": [
        "import warnings\n",
        "\n",
        "warnings.filterwarnings('ignore')"
      ]
    },
    {
      "cell_type": "code",
      "execution_count": null,
      "metadata": {
        "id": "7jwiPw7tOH14"
      },
      "outputs": [],
      "source": [
        "from sklearn.linear_model import LogisticRegression"
      ]
    },
    {
      "cell_type": "markdown",
      "metadata": {
        "id": "UJxVrDe9OH14"
      },
      "source": [
        "Since the hyper-parameter lambda in sklearn's logistic regression corresponds to the reciprocal of the lambda in our formula, I first created a grids_inv array to store the reciprocals of the grids and then performed a grid search using the same approach as in Q1.4."
      ]
    },
    {
      "cell_type": "code",
      "execution_count": null,
      "metadata": {
        "id": "uUZZW7oOOH15"
      },
      "outputs": [],
      "source": [
        "grids_inv = 1./grids\n",
        "accu_list = []"
      ]
    },
    {
      "cell_type": "code",
      "execution_count": null,
      "metadata": {
        "id": "exiSnlbrOH15"
      },
      "outputs": [],
      "source": [
        "for i in grids_inv:\n",
        "    sk_reg = LogisticRegression(penalty='l2', tol=1e-5, C=i, solver = 'newton-cg', fit_intercept=True, max_iter=1000)\n",
        "    sk_reg.fit(x_sub_train, y_sub_train)\n",
        "    pre_y_sk = sk_reg.predict(x_tuning)\n",
        "    accu_list.append( accuracy(pre_y_sk, y_tuning))"
      ]
    },
    {
      "cell_type": "code",
      "execution_count": null,
      "metadata": {
        "id": "FJP9skbXOH15",
        "outputId": "d9e3e60f-faaa-4ec4-dd98-b55410e1b76a"
      },
      "outputs": [
        {
          "data": {
            "text/plain": [
              "0.2"
            ]
          },
          "execution_count": 67,
          "metadata": {},
          "output_type": "execute_result"
        }
      ],
      "source": [
        "best_lambda_inv = grids_inv[ np.argmax(accu_list) ]\n",
        "best_lambda_inv"
      ]
    },
    {
      "cell_type": "code",
      "execution_count": null,
      "metadata": {
        "id": "ZJc7LZsOOH16",
        "outputId": "8856d496-ec8e-4833-ffd5-d70d27cb5bd2"
      },
      "outputs": [
        {
          "data": {
            "image/png": "[encoded data removed]",
            "text/plain": [
              "<Figure size 432x288 with 1 Axes>"
            ]
          },
          "metadata": {
            "needs_background": "light"
          },
          "output_type": "display_data"
        }
      ],
      "source": [
        "plot(grids, accu_list)"
      ]
    },
    {
      "cell_type": "code",
      "execution_count": null,
      "metadata": {
        "id": "6y0oaolhOH17",
        "outputId": "9aea5fef-25df-47bf-a9b9-a6d858ec680a"
      },
      "outputs": [
        {
          "name": "stdout",
          "output_type": "stream",
          "text": [
            "Best lambda =  5.0\n"
          ]
        }
      ],
      "source": [
        "print(\"Best lambda = \", 1/best_lambda_inv)"
      ]
    },
    {
      "cell_type": "code",
      "execution_count": null,
      "metadata": {
        "id": "uCIT7laUOH17"
      },
      "outputs": [],
      "source": [
        "sk_reg = LogisticRegression(penalty='l2', tol=1e-5, C=best_lambda_inv, solver = 'newton-cg',fit_intercept=True, max_iter=1000)\n",
        "sk_reg.fit(x_train, y_train)\n",
        "pre_y_sk_final = sk_reg.predict(x_test)"
      ]
    },
    {
      "cell_type": "code",
      "execution_count": null,
      "metadata": {
        "id": "m_6Esgi2OH18",
        "outputId": "71a787c7-b3af-4831-ea0e-5adcc927bf37"
      },
      "outputs": [
        {
          "name": "stdout",
          "output_type": "stream",
          "text": [
            "Accuracy =  0.84867197875166  when lambda =  5.0\n"
          ]
        }
      ],
      "source": [
        "acc = accuracy(pre_y_sk_final, y_test)\n",
        "print(\"Accuracy = \", acc, \" when lambda = \", 1/best_lambda_inv)"
      ]
    },
    {
      "cell_type": "markdown",
      "metadata": {
        "id": "44K-OIB3OH18"
      },
      "source": [
        "In my own regressor, with a1 = 20, a2 = 5, and no regularization on the constant term, the achieved accuracy is 0.84867. Interestingly, the sklearn model, with lambda=5, also achieves the same accuracy of 0.84867.\n",
        "While they are equally good, I find it peculiar because, in theory, if tuning is done based on different data types for lambda, there should be a better accuracy. I think the reason might be that, under the logistic regression model and the grids we set, it has already reached the optimal result, making the two models the same. Additionally, during tuning, it's noticeable that the accuracies on the tuning set for both models are quite similar. Hence, it's possible that my regressor with a1 and a2 only performs slightly better. And this minor improvement may not show on the testing set, leading to the final results being the same."
      ]
    }
  ],
  "metadata": {
    "kernelspec": {
      "display_name": "Python 3",
      "language": "python",
      "name": "python3"
    },
    "language_info": {
      "codemirror_mode": {
        "name": "ipython",
        "version": 3
      },
      "file_extension": ".py",
      "mimetype": "text/x-python",
      "name": "python",
      "nbconvert_exporter": "python",
      "pygments_lexer": "ipython3",
      "version": "3.7.3"
    },
    "colab": {
      "provenance": [],
      "collapsed_sections": [
        "HRt2zZ-px2kW"
      ]
    }
  },
  "nbformat": 4,
  "nbformat_minor": 0
}
